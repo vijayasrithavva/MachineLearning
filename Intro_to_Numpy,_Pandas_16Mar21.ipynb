{
  "nbformat": 4,
  "nbformat_minor": 0,
  "metadata": {
    "colab": {
      "name": "Intro to Numpy, Pandas 16Mar21",
      "provenance": [],
      "toc_visible": true
    },
    "kernelspec": {
      "name": "python3",
      "display_name": "Python 3"
    }
  },
  "cells": [
    {
      "cell_type": "code",
      "metadata": {
        "colab": {
          "base_uri": "https://localhost:8080/"
        },
        "id": "2Mkg3CdET5_f",
        "outputId": "e574115c-d655-45dd-c67d-02a9b47f488a"
      },
      "source": [
        "!ls\n"
      ],
      "execution_count": null,
      "outputs": [
        {
          "output_type": "stream",
          "text": [
            "sample_data\n"
          ],
          "name": "stdout"
        }
      ]
    },
    {
      "cell_type": "code",
      "metadata": {
        "colab": {
          "base_uri": "https://localhost:8080/"
        },
        "id": "zXMLFce-VfXA",
        "outputId": "0b327ad5-3c2f-4315-9233-9753237de170"
      },
      "source": [
        "!pwd #! - for linux/unix"
      ],
      "execution_count": null,
      "outputs": [
        {
          "output_type": "stream",
          "text": [
            "/content\n"
          ],
          "name": "stdout"
        }
      ]
    },
    {
      "cell_type": "code",
      "metadata": {
        "id": "d_u5-seuHBJI"
      },
      "source": [
        ""
      ],
      "execution_count": null,
      "outputs": []
    },
    {
      "cell_type": "markdown",
      "metadata": {
        "id": "aQa8_GnpHCGv"
      },
      "source": [
        "****NUMPY****\n"
      ]
    },
    {
      "cell_type": "markdown",
      "metadata": {
        "id": "XLshY93jWuET"
      },
      "source": [
        "To install numpy\n",
        "cmd: pip install numpy"
      ]
    },
    {
      "cell_type": "code",
      "metadata": {
        "id": "k-vdUI57VmPe"
      },
      "source": [
        "import numpy as np"
      ],
      "execution_count": null,
      "outputs": []
    },
    {
      "cell_type": "markdown",
      "metadata": {
        "id": "pwObcc8wYQTU"
      },
      "source": [
        "**ndarray**\n"
      ]
    },
    {
      "cell_type": "code",
      "metadata": {
        "colab": {
          "base_uri": "https://localhost:8080/"
        },
        "id": "MTMnTpcdXw4G",
        "outputId": "7c98776c-a6f1-44d9-bc51-be23c415c896"
      },
      "source": [
        "a = (1, 2, 3, 4, 5)\n",
        "list(a) #tuple to list"
      ],
      "execution_count": null,
      "outputs": [
        {
          "output_type": "execute_result",
          "data": {
            "text/plain": [
              "[1, 2, 3, 4, 5]"
            ]
          },
          "metadata": {
            "tags": []
          },
          "execution_count": 10
        }
      ]
    },
    {
      "cell_type": "code",
      "metadata": {
        "colab": {
          "base_uri": "https://localhost:8080/"
        },
        "id": "KoFJ4IfFYe3I",
        "outputId": "40890a6d-1cd6-4780-8dc0-b337f6c73fba"
      },
      "source": [
        "a = [1, 2, 3, 4]\n",
        "a\n",
        "type(a)"
      ],
      "execution_count": null,
      "outputs": [
        {
          "output_type": "execute_result",
          "data": {
            "text/plain": [
              "list"
            ]
          },
          "metadata": {
            "tags": []
          },
          "execution_count": 12
        }
      ]
    },
    {
      "cell_type": "code",
      "metadata": {
        "colab": {
          "base_uri": "https://localhost:8080/"
        },
        "id": "1gJt4OjcYi70",
        "outputId": "ade831f2-0cf7-4ac5-8907-9ee8f1a6c360"
      },
      "source": [
        "a = np.array(a) #tuple or list\n",
        "type(a)"
      ],
      "execution_count": null,
      "outputs": [
        {
          "output_type": "execute_result",
          "data": {
            "text/plain": [
              "numpy.ndarray"
            ]
          },
          "metadata": {
            "tags": []
          },
          "execution_count": 17
        }
      ]
    },
    {
      "cell_type": "code",
      "metadata": {
        "colab": {
          "base_uri": "https://localhost:8080/"
        },
        "id": "gnHdX_53YvVo",
        "outputId": "ddfa0f13-1a34-4cc0-aeb6-e48194d10216"
      },
      "source": [
        "print(a) #kind of matrix, 1D vector "
      ],
      "execution_count": null,
      "outputs": [
        {
          "output_type": "stream",
          "text": [
            "[1 2 3 4]\n"
          ],
          "name": "stdout"
        }
      ]
    },
    {
      "cell_type": "code",
      "metadata": {
        "colab": {
          "base_uri": "https://localhost:8080/"
        },
        "id": "rT1XtytbZX0C",
        "outputId": "d5fc0128-32f4-4d66-b6e4-d7cb9ee2c148"
      },
      "source": [
        "a.shape \n",
        "#in numpy it is vector of either col or row not a matrix \n",
        "#output: (4,) vector of 4 elements"
      ],
      "execution_count": null,
      "outputs": [
        {
          "output_type": "execute_result",
          "data": {
            "text/plain": [
              "(4,)"
            ]
          },
          "metadata": {
            "tags": []
          },
          "execution_count": 19
        }
      ]
    },
    {
      "cell_type": "code",
      "metadata": {
        "colab": {
          "base_uri": "https://localhost:8080/"
        },
        "id": "flNRbZeFZx6n",
        "outputId": "ebb12071-d272-4208-dcbc-fe09cdff0fd0"
      },
      "source": [
        "a.dtype"
      ],
      "execution_count": null,
      "outputs": [
        {
          "output_type": "execute_result",
          "data": {
            "text/plain": [
              "dtype('int64')"
            ]
          },
          "metadata": {
            "tags": []
          },
          "execution_count": 22
        }
      ]
    },
    {
      "cell_type": "code",
      "metadata": {
        "id": "21ZhuBpbapsO"
      },
      "source": [
        "b = np.array([1, 3.4, 45, '345'])\n"
      ],
      "execution_count": null,
      "outputs": []
    },
    {
      "cell_type": "code",
      "metadata": {
        "colab": {
          "base_uri": "https://localhost:8080/"
        },
        "id": "nPisOGdEbJAs",
        "outputId": "835a3c05-5f30-4899-e769-d567bcda6956"
      },
      "source": [
        "b.dtype"
      ],
      "execution_count": null,
      "outputs": [
        {
          "output_type": "execute_result",
          "data": {
            "text/plain": [
              "dtype('<U32')"
            ]
          },
          "metadata": {
            "tags": []
          },
          "execution_count": 28
        }
      ]
    },
    {
      "cell_type": "code",
      "metadata": {
        "id": "N3x1oM6hbNOp"
      },
      "source": [
        "b = np.array([1, 3.4, 45, 345],'int64')"
      ],
      "execution_count": null,
      "outputs": []
    },
    {
      "cell_type": "code",
      "metadata": {
        "colab": {
          "base_uri": "https://localhost:8080/"
        },
        "id": "gbT6yMe9brO0",
        "outputId": "1a9aad9f-5e2c-49b7-b41d-fe9820d36c46"
      },
      "source": [
        "b\n"
      ],
      "execution_count": null,
      "outputs": [
        {
          "output_type": "execute_result",
          "data": {
            "text/plain": [
              "array([  1,   3,  45, 345])"
            ]
          },
          "metadata": {
            "tags": []
          },
          "execution_count": 30
        }
      ]
    },
    {
      "cell_type": "code",
      "metadata": {
        "colab": {
          "base_uri": "https://localhost:8080/"
        },
        "id": "72-KfCy5bs6U",
        "outputId": "d10eecf0-1685-4a41-d241-0d1f41a71f51"
      },
      "source": [
        "b.size #no of elements"
      ],
      "execution_count": null,
      "outputs": [
        {
          "output_type": "execute_result",
          "data": {
            "text/plain": [
              "4"
            ]
          },
          "metadata": {
            "tags": []
          },
          "execution_count": 32
        }
      ]
    },
    {
      "cell_type": "code",
      "metadata": {
        "colab": {
          "base_uri": "https://localhost:8080/"
        },
        "id": "pzYD_nZqbvVi",
        "outputId": "09962472-1c61-4e8c-f630-b59d59d7c8cb"
      },
      "source": [
        "a = np.array([1, 2, 3, 4, 5,6])\n",
        "a.shape"
      ],
      "execution_count": null,
      "outputs": [
        {
          "output_type": "execute_result",
          "data": {
            "text/plain": [
              "(6,)"
            ]
          },
          "metadata": {
            "tags": []
          },
          "execution_count": 34
        }
      ]
    },
    {
      "cell_type": "code",
      "metadata": {
        "colab": {
          "base_uri": "https://localhost:8080/",
          "height": 162
        },
        "id": "HqjY3EsocQkQ",
        "outputId": "13755810-ef7a-4ebc-d80b-9edcc160f258"
      },
      "source": [
        "a.reshape(4,5)"
      ],
      "execution_count": null,
      "outputs": [
        {
          "output_type": "error",
          "ename": "ValueError",
          "evalue": "ignored",
          "traceback": [
            "\u001b[0;31m---------------------------------------------------------------------------\u001b[0m",
            "\u001b[0;31mValueError\u001b[0m                                Traceback (most recent call last)",
            "\u001b[0;32m<ipython-input-35-ffcde1b0c695>\u001b[0m in \u001b[0;36m<module>\u001b[0;34m()\u001b[0m\n\u001b[0;32m----> 1\u001b[0;31m \u001b[0ma\u001b[0m\u001b[0;34m.\u001b[0m\u001b[0mreshape\u001b[0m\u001b[0;34m(\u001b[0m\u001b[0;36m4\u001b[0m\u001b[0;34m,\u001b[0m\u001b[0;36m5\u001b[0m\u001b[0;34m)\u001b[0m\u001b[0;34m\u001b[0m\u001b[0;34m\u001b[0m\u001b[0m\n\u001b[0m",
            "\u001b[0;31mValueError\u001b[0m: cannot reshape array of size 6 into shape (4,5)"
          ]
        }
      ]
    },
    {
      "cell_type": "code",
      "metadata": {
        "colab": {
          "base_uri": "https://localhost:8080/"
        },
        "id": "FPGFAFAtcf2R",
        "outputId": "2a12b443-a5fd-4b5a-9a25-c0a3d81e15d1"
      },
      "source": [
        "a.reshape(2,3)"
      ],
      "execution_count": null,
      "outputs": [
        {
          "output_type": "execute_result",
          "data": {
            "text/plain": [
              "array([[1, 2, 3],\n",
              "       [4, 5, 6]])"
            ]
          },
          "metadata": {
            "tags": []
          },
          "execution_count": 38
        }
      ]
    },
    {
      "cell_type": "code",
      "metadata": {
        "colab": {
          "base_uri": "https://localhost:8080/"
        },
        "id": "ZpcmOTBkcis3",
        "outputId": "8ccdb9bb-3fc7-4561-ed08-c948833dbffd"
      },
      "source": [
        "a.reshape(6,)"
      ],
      "execution_count": null,
      "outputs": [
        {
          "output_type": "execute_result",
          "data": {
            "text/plain": [
              "array([1, 2, 3, 4, 5, 6])"
            ]
          },
          "metadata": {
            "tags": []
          },
          "execution_count": 37
        }
      ]
    },
    {
      "cell_type": "code",
      "metadata": {
        "colab": {
          "base_uri": "https://localhost:8080/"
        },
        "id": "lgseBzyicsiW",
        "outputId": "87f0fc35-f2f3-4046-eefa-85b269e58dab"
      },
      "source": [
        "#arange() # 1,2,3,4,5,6   2,4,6,     1,4,7,10 Equal difference contiguous elements can be generated\n",
        "\n",
        "#np.arange(1,101).reshape(10,10)\n",
        "\n",
        "np.arange(1,101,4).reshape(25,1).reshape(25,)"
      ],
      "execution_count": null,
      "outputs": [
        {
          "output_type": "execute_result",
          "data": {
            "text/plain": [
              "array([ 1,  5,  9, 13, 17, 21, 25, 29, 33, 37, 41, 45, 49, 53, 57, 61, 65,\n",
              "       69, 73, 77, 81, 85, 89, 93, 97])"
            ]
          },
          "metadata": {
            "tags": []
          },
          "execution_count": 46
        }
      ]
    },
    {
      "cell_type": "markdown",
      "metadata": {
        "id": "JJ5M6OyVeZRw"
      },
      "source": [
        "Mathematical operations"
      ]
    },
    {
      "cell_type": "code",
      "metadata": {
        "colab": {
          "base_uri": "https://localhost:8080/"
        },
        "id": "o9Br-ur8dWiF",
        "outputId": "8ab8a5c9-6188-4e24-aea0-45fd67fd225c"
      },
      "source": [
        "b = [51, 34, 45, 67, 89]\n",
        "b = np.array(b)\n",
        "b"
      ],
      "execution_count": null,
      "outputs": [
        {
          "output_type": "execute_result",
          "data": {
            "text/plain": [
              "array([51, 34, 45, 67, 89])"
            ]
          },
          "metadata": {
            "tags": []
          },
          "execution_count": 47
        }
      ]
    },
    {
      "cell_type": "code",
      "metadata": {
        "colab": {
          "base_uri": "https://localhost:8080/"
        },
        "id": "MAPcbSkje0ZT",
        "outputId": "d39a16f1-e16b-48cd-ea07-d49ceecae0a2"
      },
      "source": [
        "c = np.arange(len(b))\n",
        "c"
      ],
      "execution_count": null,
      "outputs": [
        {
          "output_type": "execute_result",
          "data": {
            "text/plain": [
              "array([0, 1, 2, 3, 4])"
            ]
          },
          "metadata": {
            "tags": []
          },
          "execution_count": 48
        }
      ]
    },
    {
      "cell_type": "code",
      "metadata": {
        "colab": {
          "base_uri": "https://localhost:8080/"
        },
        "id": "5fHgInine6Ld",
        "outputId": "4423080c-16ef-49e3-947f-d52113a43875"
      },
      "source": [
        "print(b+c)"
      ],
      "execution_count": null,
      "outputs": [
        {
          "output_type": "stream",
          "text": [
            "[51 35 47 70 93]\n"
          ],
          "name": "stdout"
        }
      ]
    },
    {
      "cell_type": "code",
      "metadata": {
        "colab": {
          "base_uri": "https://localhost:8080/"
        },
        "id": "QPbgkMvcfAqN",
        "outputId": "b828d8c7-2fa0-449f-f301-19d1188ab37d"
      },
      "source": [
        "d = [1, 2, 3, 4]\n",
        "e = [4, 3, 2, 1]\n",
        "print(d+e)"
      ],
      "execution_count": null,
      "outputs": [
        {
          "output_type": "stream",
          "text": [
            "[1, 2, 3, 4, 4, 3, 2, 1]\n"
          ],
          "name": "stdout"
        }
      ]
    },
    {
      "cell_type": "code",
      "metadata": {
        "colab": {
          "base_uri": "https://localhost:8080/"
        },
        "id": "VMxsoLcWfMCj",
        "outputId": "39d48848-7c9f-4117-c0e7-f6ecbdca4c74"
      },
      "source": [
        "[i+j for i,j in zip(d,e)]"
      ],
      "execution_count": null,
      "outputs": [
        {
          "output_type": "execute_result",
          "data": {
            "text/plain": [
              "[5, 5, 5, 5]"
            ]
          },
          "metadata": {
            "tags": []
          },
          "execution_count": 51
        }
      ]
    },
    {
      "cell_type": "code",
      "metadata": {
        "colab": {
          "base_uri": "https://localhost:8080/"
        },
        "id": "Ue5OMFfFfSsn",
        "outputId": "0edb374b-2c4d-4a1e-8f50-95aa5ce29860"
      },
      "source": [
        "#scalar multiplication\n",
        "pi = 3.14\n",
        "\n",
        "b"
      ],
      "execution_count": null,
      "outputs": [
        {
          "output_type": "execute_result",
          "data": {
            "text/plain": [
              "array([51, 34, 45, 67, 89])"
            ]
          },
          "metadata": {
            "tags": []
          },
          "execution_count": 52
        }
      ]
    },
    {
      "cell_type": "code",
      "metadata": {
        "colab": {
          "base_uri": "https://localhost:8080/"
        },
        "id": "2sbYksQ4fdIi",
        "outputId": "b74c092d-6240-476f-a034-946c6356c958"
      },
      "source": [
        "b*pi"
      ],
      "execution_count": null,
      "outputs": [
        {
          "output_type": "execute_result",
          "data": {
            "text/plain": [
              "array([160.14, 106.76, 141.3 , 210.38, 279.46])"
            ]
          },
          "metadata": {
            "tags": []
          },
          "execution_count": 53
        }
      ]
    },
    {
      "cell_type": "code",
      "metadata": {
        "colab": {
          "base_uri": "https://localhost:8080/"
        },
        "id": "fZDp3c8-f0Hh",
        "outputId": "3748a001-9b46-4b3d-b9f2-ce09232840e4"
      },
      "source": [
        "np.add(b, c)"
      ],
      "execution_count": null,
      "outputs": [
        {
          "output_type": "execute_result",
          "data": {
            "text/plain": [
              "array([51, 35, 47, 70, 93])"
            ]
          },
          "metadata": {
            "tags": []
          },
          "execution_count": 56
        }
      ]
    },
    {
      "cell_type": "code",
      "metadata": {
        "colab": {
          "base_uri": "https://localhost:8080/"
        },
        "id": "xm0CMn5Ufe5K",
        "outputId": "9980c9c0-da19-42e9-b905-4c76f6de2d04"
      },
      "source": [
        "np.subtract(b,c)"
      ],
      "execution_count": null,
      "outputs": [
        {
          "output_type": "execute_result",
          "data": {
            "text/plain": [
              "array([51, 33, 43, 64, 85])"
            ]
          },
          "metadata": {
            "tags": []
          },
          "execution_count": 58
        }
      ]
    },
    {
      "cell_type": "code",
      "metadata": {
        "colab": {
          "base_uri": "https://localhost:8080/"
        },
        "id": "AdKRcLRHfrnk",
        "outputId": "936d31a4-a056-46d8-eca8-3083fc5e1ffe"
      },
      "source": [
        "np.multiply(b,c) #element wise"
      ],
      "execution_count": null,
      "outputs": [
        {
          "output_type": "execute_result",
          "data": {
            "text/plain": [
              "array([  0,  34,  90, 201, 356])"
            ]
          },
          "metadata": {
            "tags": []
          },
          "execution_count": 59
        }
      ]
    },
    {
      "cell_type": "code",
      "metadata": {
        "colab": {
          "base_uri": "https://localhost:8080/"
        },
        "id": "Hvi2Iqy-gFyY",
        "outputId": "f3c2ea4f-0df2-4e90-b5eb-46e89af02a3c"
      },
      "source": [
        "b * c   #elemnt wise"
      ],
      "execution_count": null,
      "outputs": [
        {
          "output_type": "execute_result",
          "data": {
            "text/plain": [
              "array([  0,  34,  90, 201, 356])"
            ]
          },
          "metadata": {
            "tags": []
          },
          "execution_count": 61
        }
      ]
    },
    {
      "cell_type": "code",
      "metadata": {
        "colab": {
          "base_uri": "https://localhost:8080/"
        },
        "id": "_KtkQJ4YgJD7",
        "outputId": "173bcc60-bc7c-48db-f48f-129e45dd67f4"
      },
      "source": [
        "b@c"
      ],
      "execution_count": null,
      "outputs": [
        {
          "output_type": "execute_result",
          "data": {
            "text/plain": [
              "681"
            ]
          },
          "metadata": {
            "tags": []
          },
          "execution_count": 62
        }
      ]
    },
    {
      "cell_type": "code",
      "metadata": {
        "colab": {
          "base_uri": "https://localhost:8080/"
        },
        "id": "qaSrh5PAgPcV",
        "outputId": "1a40b375-59ea-4df0-81e3-1fba431f0b62"
      },
      "source": [
        "np.max(b)"
      ],
      "execution_count": null,
      "outputs": [
        {
          "output_type": "execute_result",
          "data": {
            "text/plain": [
              "89"
            ]
          },
          "metadata": {
            "tags": []
          },
          "execution_count": 63
        }
      ]
    },
    {
      "cell_type": "code",
      "metadata": {
        "colab": {
          "base_uri": "https://localhost:8080/"
        },
        "id": "RllJLqPRgY60",
        "outputId": "ee2d530e-8a41-4951-8305-ee22005db1ba"
      },
      "source": [
        "np.min(b)"
      ],
      "execution_count": null,
      "outputs": [
        {
          "output_type": "execute_result",
          "data": {
            "text/plain": [
              "34"
            ]
          },
          "metadata": {
            "tags": []
          },
          "execution_count": 64
        }
      ]
    },
    {
      "cell_type": "code",
      "metadata": {
        "colab": {
          "base_uri": "https://localhost:8080/"
        },
        "id": "-5diP4h-gade",
        "outputId": "c6df578c-426b-46fe-9624-69ef32e8bc43"
      },
      "source": [
        "b"
      ],
      "execution_count": null,
      "outputs": [
        {
          "output_type": "execute_result",
          "data": {
            "text/plain": [
              "array([51, 34, 45, 67, 89])"
            ]
          },
          "metadata": {
            "tags": []
          },
          "execution_count": 65
        }
      ]
    },
    {
      "cell_type": "code",
      "metadata": {
        "colab": {
          "base_uri": "https://localhost:8080/"
        },
        "id": "TDjsbYZfgbZk",
        "outputId": "cfe0a7cf-02a1-4b92-fbcf-87a7ebdde645"
      },
      "source": [
        "np.average(b)"
      ],
      "execution_count": null,
      "outputs": [
        {
          "output_type": "execute_result",
          "data": {
            "text/plain": [
              "57.2"
            ]
          },
          "metadata": {
            "tags": []
          },
          "execution_count": 66
        }
      ]
    },
    {
      "cell_type": "code",
      "metadata": {
        "colab": {
          "base_uri": "https://localhost:8080/"
        },
        "id": "eH1JM846gkLH",
        "outputId": "2b6051ec-5450-4662-d194-8aed3c6add28"
      },
      "source": [
        "c = np.arange(1,1501)\n",
        "c"
      ],
      "execution_count": null,
      "outputs": [
        {
          "output_type": "execute_result",
          "data": {
            "text/plain": [
              "array([   1,    2,    3, ..., 1498, 1499, 1500])"
            ]
          },
          "metadata": {
            "tags": []
          },
          "execution_count": 67
        }
      ]
    },
    {
      "cell_type": "code",
      "metadata": {
        "id": "Rbfqy5AmgwOK"
      },
      "source": [
        "c = c.reshape(150,10)"
      ],
      "execution_count": null,
      "outputs": []
    },
    {
      "cell_type": "code",
      "metadata": {
        "colab": {
          "base_uri": "https://localhost:8080/"
        },
        "id": "SmfNv7h6gpZF",
        "outputId": "58f7546e-8745-4b6c-8537-0b5b1e39cbc7"
      },
      "source": [
        "#for slicing\n",
        "\n",
        "#array_name[row_start:row_stop, col_start:col_stop]\n",
        "c[0:5, 0:5]\n"
      ],
      "execution_count": null,
      "outputs": [
        {
          "output_type": "execute_result",
          "data": {
            "text/plain": [
              "array([[ 1,  2,  3,  4,  5],\n",
              "       [11, 12, 13, 14, 15],\n",
              "       [21, 22, 23, 24, 25],\n",
              "       [31, 32, 33, 34, 35],\n",
              "       [41, 42, 43, 44, 45]])"
            ]
          },
          "metadata": {
            "tags": []
          },
          "execution_count": 71
        }
      ]
    },
    {
      "cell_type": "code",
      "metadata": {
        "colab": {
          "base_uri": "https://localhost:8080/"
        },
        "id": "I0mSBlVihMjO",
        "outputId": "44df2152-9409-4bf9-a860-39b79608a47f"
      },
      "source": [
        "c[4:9, 4:6]"
      ],
      "execution_count": null,
      "outputs": [
        {
          "output_type": "execute_result",
          "data": {
            "text/plain": [
              "array([[45, 46],\n",
              "       [55, 56],\n",
              "       [65, 66],\n",
              "       [75, 76],\n",
              "       [85, 86]])"
            ]
          },
          "metadata": {
            "tags": []
          },
          "execution_count": 72
        }
      ]
    },
    {
      "cell_type": "code",
      "metadata": {
        "colab": {
          "base_uri": "https://localhost:8080/"
        },
        "id": "7eer2ku4hg2J",
        "outputId": "c8257fc6-2cd8-4a90-90ee-e0c2f9a3a794"
      },
      "source": [
        "c[3][3]"
      ],
      "execution_count": null,
      "outputs": [
        {
          "output_type": "execute_result",
          "data": {
            "text/plain": [
              "34"
            ]
          },
          "metadata": {
            "tags": []
          },
          "execution_count": 73
        }
      ]
    },
    {
      "cell_type": "markdown",
      "metadata": {
        "id": "95KmZdQPhp9b"
      },
      "source": [
        "3d matrix"
      ]
    },
    {
      "cell_type": "code",
      "metadata": {
        "id": "Tsd5TxTyhjm2"
      },
      "source": [
        "c = c.reshape(15,10,10)"
      ],
      "execution_count": null,
      "outputs": []
    },
    {
      "cell_type": "code",
      "metadata": {
        "colab": {
          "base_uri": "https://localhost:8080/"
        },
        "id": "SrTrYkofhwGW",
        "outputId": "d4509881-5c09-4df6-b27b-a2d7d40576f1"
      },
      "source": [
        "c"
      ],
      "execution_count": null,
      "outputs": [
        {
          "output_type": "execute_result",
          "data": {
            "text/plain": [
              "array([[[   1,    2,    3, ...,    8,    9,   10],\n",
              "        [  11,   12,   13, ...,   18,   19,   20],\n",
              "        [  21,   22,   23, ...,   28,   29,   30],\n",
              "        ...,\n",
              "        [  71,   72,   73, ...,   78,   79,   80],\n",
              "        [  81,   82,   83, ...,   88,   89,   90],\n",
              "        [  91,   92,   93, ...,   98,   99,  100]],\n",
              "\n",
              "       [[ 101,  102,  103, ...,  108,  109,  110],\n",
              "        [ 111,  112,  113, ...,  118,  119,  120],\n",
              "        [ 121,  122,  123, ...,  128,  129,  130],\n",
              "        ...,\n",
              "        [ 171,  172,  173, ...,  178,  179,  180],\n",
              "        [ 181,  182,  183, ...,  188,  189,  190],\n",
              "        [ 191,  192,  193, ...,  198,  199,  200]],\n",
              "\n",
              "       [[ 201,  202,  203, ...,  208,  209,  210],\n",
              "        [ 211,  212,  213, ...,  218,  219,  220],\n",
              "        [ 221,  222,  223, ...,  228,  229,  230],\n",
              "        ...,\n",
              "        [ 271,  272,  273, ...,  278,  279,  280],\n",
              "        [ 281,  282,  283, ...,  288,  289,  290],\n",
              "        [ 291,  292,  293, ...,  298,  299,  300]],\n",
              "\n",
              "       ...,\n",
              "\n",
              "       [[1201, 1202, 1203, ..., 1208, 1209, 1210],\n",
              "        [1211, 1212, 1213, ..., 1218, 1219, 1220],\n",
              "        [1221, 1222, 1223, ..., 1228, 1229, 1230],\n",
              "        ...,\n",
              "        [1271, 1272, 1273, ..., 1278, 1279, 1280],\n",
              "        [1281, 1282, 1283, ..., 1288, 1289, 1290],\n",
              "        [1291, 1292, 1293, ..., 1298, 1299, 1300]],\n",
              "\n",
              "       [[1301, 1302, 1303, ..., 1308, 1309, 1310],\n",
              "        [1311, 1312, 1313, ..., 1318, 1319, 1320],\n",
              "        [1321, 1322, 1323, ..., 1328, 1329, 1330],\n",
              "        ...,\n",
              "        [1371, 1372, 1373, ..., 1378, 1379, 1380],\n",
              "        [1381, 1382, 1383, ..., 1388, 1389, 1390],\n",
              "        [1391, 1392, 1393, ..., 1398, 1399, 1400]],\n",
              "\n",
              "       [[1401, 1402, 1403, ..., 1408, 1409, 1410],\n",
              "        [1411, 1412, 1413, ..., 1418, 1419, 1420],\n",
              "        [1421, 1422, 1423, ..., 1428, 1429, 1430],\n",
              "        ...,\n",
              "        [1471, 1472, 1473, ..., 1478, 1479, 1480],\n",
              "        [1481, 1482, 1483, ..., 1488, 1489, 1490],\n",
              "        [1491, 1492, 1493, ..., 1498, 1499, 1500]]])"
            ]
          },
          "metadata": {
            "tags": []
          },
          "execution_count": 75
        }
      ]
    },
    {
      "cell_type": "code",
      "metadata": {
        "colab": {
          "base_uri": "https://localhost:8080/"
        },
        "id": "VS2gqdtVhxDS",
        "outputId": "d647b4ed-b379-4b1d-e657-179b46a11819"
      },
      "source": [
        "c.shape"
      ],
      "execution_count": null,
      "outputs": [
        {
          "output_type": "execute_result",
          "data": {
            "text/plain": [
              "(15, 10, 10)"
            ]
          },
          "metadata": {
            "tags": []
          },
          "execution_count": 76
        }
      ]
    },
    {
      "cell_type": "code",
      "metadata": {
        "id": "C9vsYjIlh3Hg"
      },
      "source": [
        "c = c.reshape(3,5,10,10)"
      ],
      "execution_count": null,
      "outputs": []
    },
    {
      "cell_type": "code",
      "metadata": {
        "colab": {
          "base_uri": "https://localhost:8080/"
        },
        "id": "aFjslacGiDBf",
        "outputId": "264929fd-c431-422c-82ec-0c06152908bd"
      },
      "source": [
        "c"
      ],
      "execution_count": null,
      "outputs": [
        {
          "output_type": "execute_result",
          "data": {
            "text/plain": [
              "array([[[[   1,    2,    3, ...,    8,    9,   10],\n",
              "         [  11,   12,   13, ...,   18,   19,   20],\n",
              "         [  21,   22,   23, ...,   28,   29,   30],\n",
              "         ...,\n",
              "         [  71,   72,   73, ...,   78,   79,   80],\n",
              "         [  81,   82,   83, ...,   88,   89,   90],\n",
              "         [  91,   92,   93, ...,   98,   99,  100]],\n",
              "\n",
              "        [[ 101,  102,  103, ...,  108,  109,  110],\n",
              "         [ 111,  112,  113, ...,  118,  119,  120],\n",
              "         [ 121,  122,  123, ...,  128,  129,  130],\n",
              "         ...,\n",
              "         [ 171,  172,  173, ...,  178,  179,  180],\n",
              "         [ 181,  182,  183, ...,  188,  189,  190],\n",
              "         [ 191,  192,  193, ...,  198,  199,  200]],\n",
              "\n",
              "        [[ 201,  202,  203, ...,  208,  209,  210],\n",
              "         [ 211,  212,  213, ...,  218,  219,  220],\n",
              "         [ 221,  222,  223, ...,  228,  229,  230],\n",
              "         ...,\n",
              "         [ 271,  272,  273, ...,  278,  279,  280],\n",
              "         [ 281,  282,  283, ...,  288,  289,  290],\n",
              "         [ 291,  292,  293, ...,  298,  299,  300]],\n",
              "\n",
              "        [[ 301,  302,  303, ...,  308,  309,  310],\n",
              "         [ 311,  312,  313, ...,  318,  319,  320],\n",
              "         [ 321,  322,  323, ...,  328,  329,  330],\n",
              "         ...,\n",
              "         [ 371,  372,  373, ...,  378,  379,  380],\n",
              "         [ 381,  382,  383, ...,  388,  389,  390],\n",
              "         [ 391,  392,  393, ...,  398,  399,  400]],\n",
              "\n",
              "        [[ 401,  402,  403, ...,  408,  409,  410],\n",
              "         [ 411,  412,  413, ...,  418,  419,  420],\n",
              "         [ 421,  422,  423, ...,  428,  429,  430],\n",
              "         ...,\n",
              "         [ 471,  472,  473, ...,  478,  479,  480],\n",
              "         [ 481,  482,  483, ...,  488,  489,  490],\n",
              "         [ 491,  492,  493, ...,  498,  499,  500]]],\n",
              "\n",
              "\n",
              "       [[[ 501,  502,  503, ...,  508,  509,  510],\n",
              "         [ 511,  512,  513, ...,  518,  519,  520],\n",
              "         [ 521,  522,  523, ...,  528,  529,  530],\n",
              "         ...,\n",
              "         [ 571,  572,  573, ...,  578,  579,  580],\n",
              "         [ 581,  582,  583, ...,  588,  589,  590],\n",
              "         [ 591,  592,  593, ...,  598,  599,  600]],\n",
              "\n",
              "        [[ 601,  602,  603, ...,  608,  609,  610],\n",
              "         [ 611,  612,  613, ...,  618,  619,  620],\n",
              "         [ 621,  622,  623, ...,  628,  629,  630],\n",
              "         ...,\n",
              "         [ 671,  672,  673, ...,  678,  679,  680],\n",
              "         [ 681,  682,  683, ...,  688,  689,  690],\n",
              "         [ 691,  692,  693, ...,  698,  699,  700]],\n",
              "\n",
              "        [[ 701,  702,  703, ...,  708,  709,  710],\n",
              "         [ 711,  712,  713, ...,  718,  719,  720],\n",
              "         [ 721,  722,  723, ...,  728,  729,  730],\n",
              "         ...,\n",
              "         [ 771,  772,  773, ...,  778,  779,  780],\n",
              "         [ 781,  782,  783, ...,  788,  789,  790],\n",
              "         [ 791,  792,  793, ...,  798,  799,  800]],\n",
              "\n",
              "        [[ 801,  802,  803, ...,  808,  809,  810],\n",
              "         [ 811,  812,  813, ...,  818,  819,  820],\n",
              "         [ 821,  822,  823, ...,  828,  829,  830],\n",
              "         ...,\n",
              "         [ 871,  872,  873, ...,  878,  879,  880],\n",
              "         [ 881,  882,  883, ...,  888,  889,  890],\n",
              "         [ 891,  892,  893, ...,  898,  899,  900]],\n",
              "\n",
              "        [[ 901,  902,  903, ...,  908,  909,  910],\n",
              "         [ 911,  912,  913, ...,  918,  919,  920],\n",
              "         [ 921,  922,  923, ...,  928,  929,  930],\n",
              "         ...,\n",
              "         [ 971,  972,  973, ...,  978,  979,  980],\n",
              "         [ 981,  982,  983, ...,  988,  989,  990],\n",
              "         [ 991,  992,  993, ...,  998,  999, 1000]]],\n",
              "\n",
              "\n",
              "       [[[1001, 1002, 1003, ..., 1008, 1009, 1010],\n",
              "         [1011, 1012, 1013, ..., 1018, 1019, 1020],\n",
              "         [1021, 1022, 1023, ..., 1028, 1029, 1030],\n",
              "         ...,\n",
              "         [1071, 1072, 1073, ..., 1078, 1079, 1080],\n",
              "         [1081, 1082, 1083, ..., 1088, 1089, 1090],\n",
              "         [1091, 1092, 1093, ..., 1098, 1099, 1100]],\n",
              "\n",
              "        [[1101, 1102, 1103, ..., 1108, 1109, 1110],\n",
              "         [1111, 1112, 1113, ..., 1118, 1119, 1120],\n",
              "         [1121, 1122, 1123, ..., 1128, 1129, 1130],\n",
              "         ...,\n",
              "         [1171, 1172, 1173, ..., 1178, 1179, 1180],\n",
              "         [1181, 1182, 1183, ..., 1188, 1189, 1190],\n",
              "         [1191, 1192, 1193, ..., 1198, 1199, 1200]],\n",
              "\n",
              "        [[1201, 1202, 1203, ..., 1208, 1209, 1210],\n",
              "         [1211, 1212, 1213, ..., 1218, 1219, 1220],\n",
              "         [1221, 1222, 1223, ..., 1228, 1229, 1230],\n",
              "         ...,\n",
              "         [1271, 1272, 1273, ..., 1278, 1279, 1280],\n",
              "         [1281, 1282, 1283, ..., 1288, 1289, 1290],\n",
              "         [1291, 1292, 1293, ..., 1298, 1299, 1300]],\n",
              "\n",
              "        [[1301, 1302, 1303, ..., 1308, 1309, 1310],\n",
              "         [1311, 1312, 1313, ..., 1318, 1319, 1320],\n",
              "         [1321, 1322, 1323, ..., 1328, 1329, 1330],\n",
              "         ...,\n",
              "         [1371, 1372, 1373, ..., 1378, 1379, 1380],\n",
              "         [1381, 1382, 1383, ..., 1388, 1389, 1390],\n",
              "         [1391, 1392, 1393, ..., 1398, 1399, 1400]],\n",
              "\n",
              "        [[1401, 1402, 1403, ..., 1408, 1409, 1410],\n",
              "         [1411, 1412, 1413, ..., 1418, 1419, 1420],\n",
              "         [1421, 1422, 1423, ..., 1428, 1429, 1430],\n",
              "         ...,\n",
              "         [1471, 1472, 1473, ..., 1478, 1479, 1480],\n",
              "         [1481, 1482, 1483, ..., 1488, 1489, 1490],\n",
              "         [1491, 1492, 1493, ..., 1498, 1499, 1500]]]])"
            ]
          },
          "metadata": {
            "tags": []
          },
          "execution_count": 78
        }
      ]
    },
    {
      "cell_type": "code",
      "metadata": {
        "colab": {
          "base_uri": "https://localhost:8080/"
        },
        "id": "naFeQUKHiDme",
        "outputId": "a716a918-f325-42c0-afbf-367dc953c59b"
      },
      "source": [
        "c.shape"
      ],
      "execution_count": null,
      "outputs": [
        {
          "output_type": "execute_result",
          "data": {
            "text/plain": [
              "(3, 5, 10, 10)"
            ]
          },
          "metadata": {
            "tags": []
          },
          "execution_count": 79
        }
      ]
    },
    {
      "cell_type": "code",
      "metadata": {
        "colab": {
          "base_uri": "https://localhost:8080/"
        },
        "id": "8Y9JerlyiFGf",
        "outputId": "1e1b4b21-65ed-44a5-f493-5bf04e1eb764"
      },
      "source": [
        "np.diagonal(c)"
      ],
      "execution_count": null,
      "outputs": [
        {
          "output_type": "execute_result",
          "data": {
            "text/plain": [
              "array([  1,  12,  23,  34,  45,  56,  67,  78,  89, 100])"
            ]
          },
          "metadata": {
            "tags": []
          },
          "execution_count": 81
        }
      ]
    },
    {
      "cell_type": "code",
      "metadata": {
        "colab": {
          "base_uri": "https://localhost:8080/"
        },
        "id": "Fp0DgDtIicyG",
        "outputId": "323ddfbc-9286-4410-d4f6-96ca727a6232"
      },
      "source": [
        "c[:12, :10]"
      ],
      "execution_count": null,
      "outputs": [
        {
          "output_type": "execute_result",
          "data": {
            "text/plain": [
              "array([[  1,   2,   3,   4,   5,   6,   7,   8,   9,  10],\n",
              "       [ 11,  12,  13,  14,  15,  16,  17,  18,  19,  20],\n",
              "       [ 21,  22,  23,  24,  25,  26,  27,  28,  29,  30],\n",
              "       [ 31,  32,  33,  34,  35,  36,  37,  38,  39,  40],\n",
              "       [ 41,  42,  43,  44,  45,  46,  47,  48,  49,  50],\n",
              "       [ 51,  52,  53,  54,  55,  56,  57,  58,  59,  60],\n",
              "       [ 61,  62,  63,  64,  65,  66,  67,  68,  69,  70],\n",
              "       [ 71,  72,  73,  74,  75,  76,  77,  78,  79,  80],\n",
              "       [ 81,  82,  83,  84,  85,  86,  87,  88,  89,  90],\n",
              "       [ 91,  92,  93,  94,  95,  96,  97,  98,  99, 100],\n",
              "       [101, 102, 103, 104, 105, 106, 107, 108, 109, 110],\n",
              "       [111, 112, 113, 114, 115, 116, 117, 118, 119, 120]])"
            ]
          },
          "metadata": {
            "tags": []
          },
          "execution_count": 82
        }
      ]
    },
    {
      "cell_type": "markdown",
      "metadata": {
        "id": "hxrUoEVJHYbx"
      },
      "source": [
        "# Pandas\n"
      ]
    },
    {
      "cell_type": "code",
      "metadata": {
        "colab": {
          "base_uri": "https://localhost:8080/",
          "height": 35
        },
        "id": "hNUswrQZHhFx",
        "outputId": "9a15cd4c-076e-4dbb-d256-6e4338df34c9"
      },
      "source": [
        "# !pip install pandas\n",
        "import pandas as pd\n",
        "pd.__version__"
      ],
      "execution_count": null,
      "outputs": [
        {
          "output_type": "execute_result",
          "data": {
            "application/vnd.google.colaboratory.intrinsic+json": {
              "type": "string"
            },
            "text/plain": [
              "'1.1.5'"
            ]
          },
          "metadata": {
            "tags": []
          },
          "execution_count": 1
        }
      ]
    },
    {
      "cell_type": "markdown",
      "metadata": {
        "id": "yNXYYuAbINJi"
      },
      "source": [
        "\n",
        "dataframes ==> multidimensional (table) -> highly optimized\n",
        "\n"
      ]
    },
    {
      "cell_type": "code",
      "metadata": {
        "colab": {
          "base_uri": "https://localhost:8080/",
          "height": 50
        },
        "id": "4UKlZdrGH_-H",
        "outputId": "d87ebc0f-a0ff-4ea1-df02-ca35850ce3e7"
      },
      "source": [
        "data = {'Name': ['Chandu', 'aruna'], 'Age': [23,21]}\n",
        "data\n",
        "display(data)\n",
        "type(data)"
      ],
      "execution_count": null,
      "outputs": [
        {
          "output_type": "display_data",
          "data": {
            "text/plain": [
              "{'Age': [23, 21], 'Name': ['Chandu', 'aruna']}"
            ]
          },
          "metadata": {
            "tags": []
          }
        },
        {
          "output_type": "execute_result",
          "data": {
            "text/plain": [
              "dict"
            ]
          },
          "metadata": {
            "tags": []
          },
          "execution_count": 3
        }
      ]
    },
    {
      "cell_type": "code",
      "metadata": {
        "colab": {
          "base_uri": "https://localhost:8080/",
          "height": 195
        },
        "id": "5vTGycyJJxhj",
        "outputId": "b6b983f2-5674-46f2-840e-215921fa5114"
      },
      "source": [
        "data_df = pd.DataFrame(data)\n",
        "display(data_df)\n",
        "type(data_df)"
      ],
      "execution_count": null,
      "outputs": [
        {
          "output_type": "error",
          "ename": "NameError",
          "evalue": "ignored",
          "traceback": [
            "\u001b[0;31m---------------------------------------------------------------------------\u001b[0m",
            "\u001b[0;31mNameError\u001b[0m                                 Traceback (most recent call last)",
            "\u001b[0;32m<ipython-input-2-e5d171270430>\u001b[0m in \u001b[0;36m<module>\u001b[0;34m()\u001b[0m\n\u001b[0;32m----> 1\u001b[0;31m \u001b[0mdata_df\u001b[0m \u001b[0;34m=\u001b[0m \u001b[0mpd\u001b[0m\u001b[0;34m.\u001b[0m\u001b[0mDataFrame\u001b[0m\u001b[0;34m(\u001b[0m\u001b[0mdata\u001b[0m\u001b[0;34m)\u001b[0m\u001b[0;34m\u001b[0m\u001b[0;34m\u001b[0m\u001b[0m\n\u001b[0m\u001b[1;32m      2\u001b[0m \u001b[0mdisplay\u001b[0m\u001b[0;34m(\u001b[0m\u001b[0mdata_df\u001b[0m\u001b[0;34m)\u001b[0m\u001b[0;34m\u001b[0m\u001b[0;34m\u001b[0m\u001b[0m\n\u001b[1;32m      3\u001b[0m \u001b[0mtype\u001b[0m\u001b[0;34m(\u001b[0m\u001b[0mdata_df\u001b[0m\u001b[0;34m)\u001b[0m\u001b[0;34m\u001b[0m\u001b[0;34m\u001b[0m\u001b[0m\n",
            "\u001b[0;31mNameError\u001b[0m: name 'data' is not defined"
          ]
        }
      ]
    },
    {
      "cell_type": "code",
      "metadata": {
        "id": "tM2w95f3KNHg"
      },
      "source": [
        "df = pd.read_csv(\"/content/sample_data/california_housing_train.csv\")\n"
      ],
      "execution_count": null,
      "outputs": []
    },
    {
      "cell_type": "code",
      "metadata": {
        "colab": {
          "base_uri": "https://localhost:8080/",
          "height": 195
        },
        "id": "Q5rAP1XuMq5a",
        "outputId": "4fb0ba06-c5a6-4b5d-f377-bd027fcff61d"
      },
      "source": [
        "df.head()"
      ],
      "execution_count": null,
      "outputs": [
        {
          "output_type": "execute_result",
          "data": {
            "text/html": [
              "<div>\n",
              "<style scoped>\n",
              "    .dataframe tbody tr th:only-of-type {\n",
              "        vertical-align: middle;\n",
              "    }\n",
              "\n",
              "    .dataframe tbody tr th {\n",
              "        vertical-align: top;\n",
              "    }\n",
              "\n",
              "    .dataframe thead th {\n",
              "        text-align: right;\n",
              "    }\n",
              "</style>\n",
              "<table border=\"1\" class=\"dataframe\">\n",
              "  <thead>\n",
              "    <tr style=\"text-align: right;\">\n",
              "      <th></th>\n",
              "      <th>longitude</th>\n",
              "      <th>latitude</th>\n",
              "      <th>housing_median_age</th>\n",
              "      <th>total_rooms</th>\n",
              "      <th>total_bedrooms</th>\n",
              "      <th>population</th>\n",
              "      <th>households</th>\n",
              "      <th>median_income</th>\n",
              "      <th>median_house_value</th>\n",
              "    </tr>\n",
              "  </thead>\n",
              "  <tbody>\n",
              "    <tr>\n",
              "      <th>0</th>\n",
              "      <td>-114.31</td>\n",
              "      <td>34.19</td>\n",
              "      <td>15.0</td>\n",
              "      <td>5612.0</td>\n",
              "      <td>1283.0</td>\n",
              "      <td>1015.0</td>\n",
              "      <td>472.0</td>\n",
              "      <td>1.4936</td>\n",
              "      <td>66900.0</td>\n",
              "    </tr>\n",
              "    <tr>\n",
              "      <th>1</th>\n",
              "      <td>-114.47</td>\n",
              "      <td>34.40</td>\n",
              "      <td>19.0</td>\n",
              "      <td>7650.0</td>\n",
              "      <td>1901.0</td>\n",
              "      <td>1129.0</td>\n",
              "      <td>463.0</td>\n",
              "      <td>1.8200</td>\n",
              "      <td>80100.0</td>\n",
              "    </tr>\n",
              "    <tr>\n",
              "      <th>2</th>\n",
              "      <td>-114.56</td>\n",
              "      <td>33.69</td>\n",
              "      <td>17.0</td>\n",
              "      <td>720.0</td>\n",
              "      <td>174.0</td>\n",
              "      <td>333.0</td>\n",
              "      <td>117.0</td>\n",
              "      <td>1.6509</td>\n",
              "      <td>85700.0</td>\n",
              "    </tr>\n",
              "    <tr>\n",
              "      <th>3</th>\n",
              "      <td>-114.57</td>\n",
              "      <td>33.64</td>\n",
              "      <td>14.0</td>\n",
              "      <td>1501.0</td>\n",
              "      <td>337.0</td>\n",
              "      <td>515.0</td>\n",
              "      <td>226.0</td>\n",
              "      <td>3.1917</td>\n",
              "      <td>73400.0</td>\n",
              "    </tr>\n",
              "    <tr>\n",
              "      <th>4</th>\n",
              "      <td>-114.57</td>\n",
              "      <td>33.57</td>\n",
              "      <td>20.0</td>\n",
              "      <td>1454.0</td>\n",
              "      <td>326.0</td>\n",
              "      <td>624.0</td>\n",
              "      <td>262.0</td>\n",
              "      <td>1.9250</td>\n",
              "      <td>65500.0</td>\n",
              "    </tr>\n",
              "  </tbody>\n",
              "</table>\n",
              "</div>"
            ],
            "text/plain": [
              "   longitude  latitude  ...  median_income  median_house_value\n",
              "0    -114.31     34.19  ...         1.4936             66900.0\n",
              "1    -114.47     34.40  ...         1.8200             80100.0\n",
              "2    -114.56     33.69  ...         1.6509             85700.0\n",
              "3    -114.57     33.64  ...         3.1917             73400.0\n",
              "4    -114.57     33.57  ...         1.9250             65500.0\n",
              "\n",
              "[5 rows x 9 columns]"
            ]
          },
          "metadata": {
            "tags": []
          },
          "execution_count": 11
        }
      ]
    },
    {
      "cell_type": "code",
      "metadata": {
        "id": "ooOAHVf9aPk7"
      },
      "source": [
        "from google.colab import drive\n",
        "drive.mount('/content/drive')"
      ],
      "execution_count": null,
      "outputs": []
    },
    {
      "cell_type": "code",
      "metadata": {
        "colab": {
          "base_uri": "https://localhost:8080/",
          "height": 432
        },
        "id": "5eH250sVMtSJ",
        "outputId": "d09701a1-14b2-407b-869d-af2f09d82ce8"
      },
      "source": [
        "df.head(13)"
      ],
      "execution_count": null,
      "outputs": [
        {
          "output_type": "execute_result",
          "data": {
            "text/html": [
              "<div>\n",
              "<style scoped>\n",
              "    .dataframe tbody tr th:only-of-type {\n",
              "        vertical-align: middle;\n",
              "    }\n",
              "\n",
              "    .dataframe tbody tr th {\n",
              "        vertical-align: top;\n",
              "    }\n",
              "\n",
              "    .dataframe thead th {\n",
              "        text-align: right;\n",
              "    }\n",
              "</style>\n",
              "<table border=\"1\" class=\"dataframe\">\n",
              "  <thead>\n",
              "    <tr style=\"text-align: right;\">\n",
              "      <th></th>\n",
              "      <th>longitude</th>\n",
              "      <th>latitude</th>\n",
              "      <th>housing_median_age</th>\n",
              "      <th>total_rooms</th>\n",
              "      <th>total_bedrooms</th>\n",
              "      <th>population</th>\n",
              "      <th>households</th>\n",
              "      <th>median_income</th>\n",
              "      <th>median_house_value</th>\n",
              "    </tr>\n",
              "  </thead>\n",
              "  <tbody>\n",
              "    <tr>\n",
              "      <th>0</th>\n",
              "      <td>-114.31</td>\n",
              "      <td>34.19</td>\n",
              "      <td>15.0</td>\n",
              "      <td>5612.0</td>\n",
              "      <td>1283.0</td>\n",
              "      <td>1015.0</td>\n",
              "      <td>472.0</td>\n",
              "      <td>1.4936</td>\n",
              "      <td>66900.0</td>\n",
              "    </tr>\n",
              "    <tr>\n",
              "      <th>1</th>\n",
              "      <td>-114.47</td>\n",
              "      <td>34.40</td>\n",
              "      <td>19.0</td>\n",
              "      <td>7650.0</td>\n",
              "      <td>1901.0</td>\n",
              "      <td>1129.0</td>\n",
              "      <td>463.0</td>\n",
              "      <td>1.8200</td>\n",
              "      <td>80100.0</td>\n",
              "    </tr>\n",
              "    <tr>\n",
              "      <th>2</th>\n",
              "      <td>-114.56</td>\n",
              "      <td>33.69</td>\n",
              "      <td>17.0</td>\n",
              "      <td>720.0</td>\n",
              "      <td>174.0</td>\n",
              "      <td>333.0</td>\n",
              "      <td>117.0</td>\n",
              "      <td>1.6509</td>\n",
              "      <td>85700.0</td>\n",
              "    </tr>\n",
              "    <tr>\n",
              "      <th>3</th>\n",
              "      <td>-114.57</td>\n",
              "      <td>33.64</td>\n",
              "      <td>14.0</td>\n",
              "      <td>1501.0</td>\n",
              "      <td>337.0</td>\n",
              "      <td>515.0</td>\n",
              "      <td>226.0</td>\n",
              "      <td>3.1917</td>\n",
              "      <td>73400.0</td>\n",
              "    </tr>\n",
              "    <tr>\n",
              "      <th>4</th>\n",
              "      <td>-114.57</td>\n",
              "      <td>33.57</td>\n",
              "      <td>20.0</td>\n",
              "      <td>1454.0</td>\n",
              "      <td>326.0</td>\n",
              "      <td>624.0</td>\n",
              "      <td>262.0</td>\n",
              "      <td>1.9250</td>\n",
              "      <td>65500.0</td>\n",
              "    </tr>\n",
              "    <tr>\n",
              "      <th>5</th>\n",
              "      <td>-114.58</td>\n",
              "      <td>33.63</td>\n",
              "      <td>29.0</td>\n",
              "      <td>1387.0</td>\n",
              "      <td>236.0</td>\n",
              "      <td>671.0</td>\n",
              "      <td>239.0</td>\n",
              "      <td>3.3438</td>\n",
              "      <td>74000.0</td>\n",
              "    </tr>\n",
              "    <tr>\n",
              "      <th>6</th>\n",
              "      <td>-114.58</td>\n",
              "      <td>33.61</td>\n",
              "      <td>25.0</td>\n",
              "      <td>2907.0</td>\n",
              "      <td>680.0</td>\n",
              "      <td>1841.0</td>\n",
              "      <td>633.0</td>\n",
              "      <td>2.6768</td>\n",
              "      <td>82400.0</td>\n",
              "    </tr>\n",
              "    <tr>\n",
              "      <th>7</th>\n",
              "      <td>-114.59</td>\n",
              "      <td>34.83</td>\n",
              "      <td>41.0</td>\n",
              "      <td>812.0</td>\n",
              "      <td>168.0</td>\n",
              "      <td>375.0</td>\n",
              "      <td>158.0</td>\n",
              "      <td>1.7083</td>\n",
              "      <td>48500.0</td>\n",
              "    </tr>\n",
              "    <tr>\n",
              "      <th>8</th>\n",
              "      <td>-114.59</td>\n",
              "      <td>33.61</td>\n",
              "      <td>34.0</td>\n",
              "      <td>4789.0</td>\n",
              "      <td>1175.0</td>\n",
              "      <td>3134.0</td>\n",
              "      <td>1056.0</td>\n",
              "      <td>2.1782</td>\n",
              "      <td>58400.0</td>\n",
              "    </tr>\n",
              "    <tr>\n",
              "      <th>9</th>\n",
              "      <td>-114.60</td>\n",
              "      <td>34.83</td>\n",
              "      <td>46.0</td>\n",
              "      <td>1497.0</td>\n",
              "      <td>309.0</td>\n",
              "      <td>787.0</td>\n",
              "      <td>271.0</td>\n",
              "      <td>2.1908</td>\n",
              "      <td>48100.0</td>\n",
              "    </tr>\n",
              "    <tr>\n",
              "      <th>10</th>\n",
              "      <td>-114.60</td>\n",
              "      <td>33.62</td>\n",
              "      <td>16.0</td>\n",
              "      <td>3741.0</td>\n",
              "      <td>801.0</td>\n",
              "      <td>2434.0</td>\n",
              "      <td>824.0</td>\n",
              "      <td>2.6797</td>\n",
              "      <td>86500.0</td>\n",
              "    </tr>\n",
              "    <tr>\n",
              "      <th>11</th>\n",
              "      <td>-114.60</td>\n",
              "      <td>33.60</td>\n",
              "      <td>21.0</td>\n",
              "      <td>1988.0</td>\n",
              "      <td>483.0</td>\n",
              "      <td>1182.0</td>\n",
              "      <td>437.0</td>\n",
              "      <td>1.6250</td>\n",
              "      <td>62000.0</td>\n",
              "    </tr>\n",
              "    <tr>\n",
              "      <th>12</th>\n",
              "      <td>-114.61</td>\n",
              "      <td>34.84</td>\n",
              "      <td>48.0</td>\n",
              "      <td>1291.0</td>\n",
              "      <td>248.0</td>\n",
              "      <td>580.0</td>\n",
              "      <td>211.0</td>\n",
              "      <td>2.1571</td>\n",
              "      <td>48600.0</td>\n",
              "    </tr>\n",
              "  </tbody>\n",
              "</table>\n",
              "</div>"
            ],
            "text/plain": [
              "    longitude  latitude  ...  median_income  median_house_value\n",
              "0     -114.31     34.19  ...         1.4936             66900.0\n",
              "1     -114.47     34.40  ...         1.8200             80100.0\n",
              "2     -114.56     33.69  ...         1.6509             85700.0\n",
              "3     -114.57     33.64  ...         3.1917             73400.0\n",
              "4     -114.57     33.57  ...         1.9250             65500.0\n",
              "5     -114.58     33.63  ...         3.3438             74000.0\n",
              "6     -114.58     33.61  ...         2.6768             82400.0\n",
              "7     -114.59     34.83  ...         1.7083             48500.0\n",
              "8     -114.59     33.61  ...         2.1782             58400.0\n",
              "9     -114.60     34.83  ...         2.1908             48100.0\n",
              "10    -114.60     33.62  ...         2.6797             86500.0\n",
              "11    -114.60     33.60  ...         1.6250             62000.0\n",
              "12    -114.61     34.84  ...         2.1571             48600.0\n",
              "\n",
              "[13 rows x 9 columns]"
            ]
          },
          "metadata": {
            "tags": []
          },
          "execution_count": 12
        }
      ]
    },
    {
      "cell_type": "code",
      "metadata": {
        "colab": {
          "base_uri": "https://localhost:8080/",
          "height": 195
        },
        "id": "4mhicnIWM2jK",
        "outputId": "ea2a7c1d-2246-4eec-8a28-19c8a6dc35a2"
      },
      "source": [
        "df.tail()"
      ],
      "execution_count": null,
      "outputs": [
        {
          "output_type": "execute_result",
          "data": {
            "text/html": [
              "<div>\n",
              "<style scoped>\n",
              "    .dataframe tbody tr th:only-of-type {\n",
              "        vertical-align: middle;\n",
              "    }\n",
              "\n",
              "    .dataframe tbody tr th {\n",
              "        vertical-align: top;\n",
              "    }\n",
              "\n",
              "    .dataframe thead th {\n",
              "        text-align: right;\n",
              "    }\n",
              "</style>\n",
              "<table border=\"1\" class=\"dataframe\">\n",
              "  <thead>\n",
              "    <tr style=\"text-align: right;\">\n",
              "      <th></th>\n",
              "      <th>longitude</th>\n",
              "      <th>latitude</th>\n",
              "      <th>housing_median_age</th>\n",
              "      <th>total_rooms</th>\n",
              "      <th>total_bedrooms</th>\n",
              "      <th>population</th>\n",
              "      <th>households</th>\n",
              "      <th>median_income</th>\n",
              "      <th>median_house_value</th>\n",
              "    </tr>\n",
              "  </thead>\n",
              "  <tbody>\n",
              "    <tr>\n",
              "      <th>16995</th>\n",
              "      <td>-124.26</td>\n",
              "      <td>40.58</td>\n",
              "      <td>52.0</td>\n",
              "      <td>2217.0</td>\n",
              "      <td>394.0</td>\n",
              "      <td>907.0</td>\n",
              "      <td>369.0</td>\n",
              "      <td>2.3571</td>\n",
              "      <td>111400.0</td>\n",
              "    </tr>\n",
              "    <tr>\n",
              "      <th>16996</th>\n",
              "      <td>-124.27</td>\n",
              "      <td>40.69</td>\n",
              "      <td>36.0</td>\n",
              "      <td>2349.0</td>\n",
              "      <td>528.0</td>\n",
              "      <td>1194.0</td>\n",
              "      <td>465.0</td>\n",
              "      <td>2.5179</td>\n",
              "      <td>79000.0</td>\n",
              "    </tr>\n",
              "    <tr>\n",
              "      <th>16997</th>\n",
              "      <td>-124.30</td>\n",
              "      <td>41.84</td>\n",
              "      <td>17.0</td>\n",
              "      <td>2677.0</td>\n",
              "      <td>531.0</td>\n",
              "      <td>1244.0</td>\n",
              "      <td>456.0</td>\n",
              "      <td>3.0313</td>\n",
              "      <td>103600.0</td>\n",
              "    </tr>\n",
              "    <tr>\n",
              "      <th>16998</th>\n",
              "      <td>-124.30</td>\n",
              "      <td>41.80</td>\n",
              "      <td>19.0</td>\n",
              "      <td>2672.0</td>\n",
              "      <td>552.0</td>\n",
              "      <td>1298.0</td>\n",
              "      <td>478.0</td>\n",
              "      <td>1.9797</td>\n",
              "      <td>85800.0</td>\n",
              "    </tr>\n",
              "    <tr>\n",
              "      <th>16999</th>\n",
              "      <td>-124.35</td>\n",
              "      <td>40.54</td>\n",
              "      <td>52.0</td>\n",
              "      <td>1820.0</td>\n",
              "      <td>300.0</td>\n",
              "      <td>806.0</td>\n",
              "      <td>270.0</td>\n",
              "      <td>3.0147</td>\n",
              "      <td>94600.0</td>\n",
              "    </tr>\n",
              "  </tbody>\n",
              "</table>\n",
              "</div>"
            ],
            "text/plain": [
              "       longitude  latitude  ...  median_income  median_house_value\n",
              "16995    -124.26     40.58  ...         2.3571            111400.0\n",
              "16996    -124.27     40.69  ...         2.5179             79000.0\n",
              "16997    -124.30     41.84  ...         3.0313            103600.0\n",
              "16998    -124.30     41.80  ...         1.9797             85800.0\n",
              "16999    -124.35     40.54  ...         3.0147             94600.0\n",
              "\n",
              "[5 rows x 9 columns]"
            ]
          },
          "metadata": {
            "tags": []
          },
          "execution_count": 13
        }
      ]
    },
    {
      "cell_type": "code",
      "metadata": {
        "colab": {
          "base_uri": "https://localhost:8080/"
        },
        "id": "RJWFyDLVM5y4",
        "outputId": "4559c10e-c97d-4af3-a160-98ebb2a093bf"
      },
      "source": [
        "df.shape"
      ],
      "execution_count": null,
      "outputs": [
        {
          "output_type": "execute_result",
          "data": {
            "text/plain": [
              "(17000, 9)"
            ]
          },
          "metadata": {
            "tags": []
          },
          "execution_count": 14
        }
      ]
    },
    {
      "cell_type": "code",
      "metadata": {
        "colab": {
          "base_uri": "https://localhost:8080/"
        },
        "id": "imhxiEksND3U",
        "outputId": "91acb9e2-d259-4239-9774-39135f33c707"
      },
      "source": [
        "df.size"
      ],
      "execution_count": null,
      "outputs": [
        {
          "output_type": "execute_result",
          "data": {
            "text/plain": [
              "153000"
            ]
          },
          "metadata": {
            "tags": []
          },
          "execution_count": 15
        }
      ]
    },
    {
      "cell_type": "code",
      "metadata": {
        "colab": {
          "base_uri": "https://localhost:8080/"
        },
        "id": "hOEwOAU-NFhe",
        "outputId": "76d79597-056e-45a3-889f-f94d7abc65b7"
      },
      "source": [
        "df.min()"
      ],
      "execution_count": null,
      "outputs": [
        {
          "output_type": "execute_result",
          "data": {
            "text/plain": [
              "longitude              -124.3500\n",
              "latitude                 32.5400\n",
              "housing_median_age        1.0000\n",
              "total_rooms               2.0000\n",
              "total_bedrooms            1.0000\n",
              "population                3.0000\n",
              "households                1.0000\n",
              "median_income             0.4999\n",
              "median_house_value    14999.0000\n",
              "dtype: float64"
            ]
          },
          "metadata": {
            "tags": []
          },
          "execution_count": 16
        }
      ]
    },
    {
      "cell_type": "code",
      "metadata": {
        "colab": {
          "base_uri": "https://localhost:8080/"
        },
        "id": "5IMrng_yNTHf",
        "outputId": "eac9c376-a349-4663-bb58-59872043792c"
      },
      "source": [
        "df.max()"
      ],
      "execution_count": null,
      "outputs": [
        {
          "output_type": "execute_result",
          "data": {
            "text/plain": [
              "longitude               -114.3100\n",
              "latitude                  41.9500\n",
              "housing_median_age        52.0000\n",
              "total_rooms            37937.0000\n",
              "total_bedrooms          6445.0000\n",
              "population             35682.0000\n",
              "households              6082.0000\n",
              "median_income             15.0001\n",
              "median_house_value    500001.0000\n",
              "dtype: float64"
            ]
          },
          "metadata": {
            "tags": []
          },
          "execution_count": 17
        }
      ]
    },
    {
      "cell_type": "code",
      "metadata": {
        "colab": {
          "base_uri": "https://localhost:8080/"
        },
        "id": "YonsnDXfNUsh",
        "outputId": "8f3b7ec8-5d8e-4b40-e98a-4c6186d6fcf3"
      },
      "source": [
        "df.mean()"
      ],
      "execution_count": null,
      "outputs": [
        {
          "output_type": "execute_result",
          "data": {
            "text/plain": [
              "longitude               -119.562108\n",
              "latitude                  35.625225\n",
              "housing_median_age        28.589353\n",
              "total_rooms             2643.664412\n",
              "total_bedrooms           539.410824\n",
              "population              1429.573941\n",
              "households               501.221941\n",
              "median_income              3.883578\n",
              "median_house_value    207300.912353\n",
              "dtype: float64"
            ]
          },
          "metadata": {
            "tags": []
          },
          "execution_count": 19
        }
      ]
    },
    {
      "cell_type": "code",
      "metadata": {
        "colab": {
          "base_uri": "https://localhost:8080/"
        },
        "id": "KZOpoK0gNbFY",
        "outputId": "2e5dd004-8c66-49a8-d09e-550854290403"
      },
      "source": [
        "df.median()\n"
      ],
      "execution_count": null,
      "outputs": [
        {
          "output_type": "execute_result",
          "data": {
            "text/plain": [
              "longitude               -118.4900\n",
              "latitude                  34.2500\n",
              "housing_median_age        29.0000\n",
              "total_rooms             2127.0000\n",
              "total_bedrooms           434.0000\n",
              "population              1167.0000\n",
              "households               409.0000\n",
              "median_income              3.5446\n",
              "median_house_value    180400.0000\n",
              "dtype: float64"
            ]
          },
          "metadata": {
            "tags": []
          },
          "execution_count": 20
        }
      ]
    },
    {
      "cell_type": "code",
      "metadata": {
        "colab": {
          "base_uri": "https://localhost:8080/"
        },
        "id": "qmnhy6gYNiSY",
        "outputId": "6c50eba2-a296-44e1-bdde-29c09cd0cc5c"
      },
      "source": [
        "df.std"
      ],
      "execution_count": null,
      "outputs": [
        {
          "output_type": "execute_result",
          "data": {
            "text/plain": [
              "<bound method DataFrame.std of        longitude  latitude  ...  median_income  median_house_value\n",
              "0        -114.31     34.19  ...         1.4936             66900.0\n",
              "1        -114.47     34.40  ...         1.8200             80100.0\n",
              "2        -114.56     33.69  ...         1.6509             85700.0\n",
              "3        -114.57     33.64  ...         3.1917             73400.0\n",
              "4        -114.57     33.57  ...         1.9250             65500.0\n",
              "...          ...       ...  ...            ...                 ...\n",
              "16995    -124.26     40.58  ...         2.3571            111400.0\n",
              "16996    -124.27     40.69  ...         2.5179             79000.0\n",
              "16997    -124.30     41.84  ...         3.0313            103600.0\n",
              "16998    -124.30     41.80  ...         1.9797             85800.0\n",
              "16999    -124.35     40.54  ...         3.0147             94600.0\n",
              "\n",
              "[17000 rows x 9 columns]>"
            ]
          },
          "metadata": {
            "tags": []
          },
          "execution_count": 21
        }
      ]
    },
    {
      "cell_type": "code",
      "metadata": {
        "colab": {
          "base_uri": "https://localhost:8080/",
          "height": 304
        },
        "id": "wgcjomDsNj7g",
        "outputId": "752a37f2-ca2f-4be0-c519-ca36394888b0"
      },
      "source": [
        "df.describe()"
      ],
      "execution_count": null,
      "outputs": [
        {
          "output_type": "execute_result",
          "data": {
            "text/html": [
              "<div>\n",
              "<style scoped>\n",
              "    .dataframe tbody tr th:only-of-type {\n",
              "        vertical-align: middle;\n",
              "    }\n",
              "\n",
              "    .dataframe tbody tr th {\n",
              "        vertical-align: top;\n",
              "    }\n",
              "\n",
              "    .dataframe thead th {\n",
              "        text-align: right;\n",
              "    }\n",
              "</style>\n",
              "<table border=\"1\" class=\"dataframe\">\n",
              "  <thead>\n",
              "    <tr style=\"text-align: right;\">\n",
              "      <th></th>\n",
              "      <th>longitude</th>\n",
              "      <th>latitude</th>\n",
              "      <th>housing_median_age</th>\n",
              "      <th>total_rooms</th>\n",
              "      <th>total_bedrooms</th>\n",
              "      <th>population</th>\n",
              "      <th>households</th>\n",
              "      <th>median_income</th>\n",
              "      <th>median_house_value</th>\n",
              "    </tr>\n",
              "  </thead>\n",
              "  <tbody>\n",
              "    <tr>\n",
              "      <th>count</th>\n",
              "      <td>17000.000000</td>\n",
              "      <td>17000.000000</td>\n",
              "      <td>17000.000000</td>\n",
              "      <td>17000.000000</td>\n",
              "      <td>17000.000000</td>\n",
              "      <td>17000.000000</td>\n",
              "      <td>17000.000000</td>\n",
              "      <td>17000.000000</td>\n",
              "      <td>17000.000000</td>\n",
              "    </tr>\n",
              "    <tr>\n",
              "      <th>mean</th>\n",
              "      <td>-119.562108</td>\n",
              "      <td>35.625225</td>\n",
              "      <td>28.589353</td>\n",
              "      <td>2643.664412</td>\n",
              "      <td>539.410824</td>\n",
              "      <td>1429.573941</td>\n",
              "      <td>501.221941</td>\n",
              "      <td>3.883578</td>\n",
              "      <td>207300.912353</td>\n",
              "    </tr>\n",
              "    <tr>\n",
              "      <th>std</th>\n",
              "      <td>2.005166</td>\n",
              "      <td>2.137340</td>\n",
              "      <td>12.586937</td>\n",
              "      <td>2179.947071</td>\n",
              "      <td>421.499452</td>\n",
              "      <td>1147.852959</td>\n",
              "      <td>384.520841</td>\n",
              "      <td>1.908157</td>\n",
              "      <td>115983.764387</td>\n",
              "    </tr>\n",
              "    <tr>\n",
              "      <th>min</th>\n",
              "      <td>-124.350000</td>\n",
              "      <td>32.540000</td>\n",
              "      <td>1.000000</td>\n",
              "      <td>2.000000</td>\n",
              "      <td>1.000000</td>\n",
              "      <td>3.000000</td>\n",
              "      <td>1.000000</td>\n",
              "      <td>0.499900</td>\n",
              "      <td>14999.000000</td>\n",
              "    </tr>\n",
              "    <tr>\n",
              "      <th>25%</th>\n",
              "      <td>-121.790000</td>\n",
              "      <td>33.930000</td>\n",
              "      <td>18.000000</td>\n",
              "      <td>1462.000000</td>\n",
              "      <td>297.000000</td>\n",
              "      <td>790.000000</td>\n",
              "      <td>282.000000</td>\n",
              "      <td>2.566375</td>\n",
              "      <td>119400.000000</td>\n",
              "    </tr>\n",
              "    <tr>\n",
              "      <th>50%</th>\n",
              "      <td>-118.490000</td>\n",
              "      <td>34.250000</td>\n",
              "      <td>29.000000</td>\n",
              "      <td>2127.000000</td>\n",
              "      <td>434.000000</td>\n",
              "      <td>1167.000000</td>\n",
              "      <td>409.000000</td>\n",
              "      <td>3.544600</td>\n",
              "      <td>180400.000000</td>\n",
              "    </tr>\n",
              "    <tr>\n",
              "      <th>75%</th>\n",
              "      <td>-118.000000</td>\n",
              "      <td>37.720000</td>\n",
              "      <td>37.000000</td>\n",
              "      <td>3151.250000</td>\n",
              "      <td>648.250000</td>\n",
              "      <td>1721.000000</td>\n",
              "      <td>605.250000</td>\n",
              "      <td>4.767000</td>\n",
              "      <td>265000.000000</td>\n",
              "    </tr>\n",
              "    <tr>\n",
              "      <th>max</th>\n",
              "      <td>-114.310000</td>\n",
              "      <td>41.950000</td>\n",
              "      <td>52.000000</td>\n",
              "      <td>37937.000000</td>\n",
              "      <td>6445.000000</td>\n",
              "      <td>35682.000000</td>\n",
              "      <td>6082.000000</td>\n",
              "      <td>15.000100</td>\n",
              "      <td>500001.000000</td>\n",
              "    </tr>\n",
              "  </tbody>\n",
              "</table>\n",
              "</div>"
            ],
            "text/plain": [
              "          longitude      latitude  ...  median_income  median_house_value\n",
              "count  17000.000000  17000.000000  ...   17000.000000        17000.000000\n",
              "mean    -119.562108     35.625225  ...       3.883578       207300.912353\n",
              "std        2.005166      2.137340  ...       1.908157       115983.764387\n",
              "min     -124.350000     32.540000  ...       0.499900        14999.000000\n",
              "25%     -121.790000     33.930000  ...       2.566375       119400.000000\n",
              "50%     -118.490000     34.250000  ...       3.544600       180400.000000\n",
              "75%     -118.000000     37.720000  ...       4.767000       265000.000000\n",
              "max     -114.310000     41.950000  ...      15.000100       500001.000000\n",
              "\n",
              "[8 rows x 9 columns]"
            ]
          },
          "metadata": {
            "tags": []
          },
          "execution_count": 22
        }
      ]
    },
    {
      "cell_type": "code",
      "metadata": {
        "colab": {
          "base_uri": "https://localhost:8080/"
        },
        "id": "sYTr2kXBNnJN",
        "outputId": "87a52c29-08db-432d-ebf6-3c5b5a870100"
      },
      "source": [
        "df.info() #strings are stored as object in python"
      ],
      "execution_count": null,
      "outputs": [
        {
          "output_type": "stream",
          "text": [
            "<class 'pandas.core.frame.DataFrame'>\n",
            "RangeIndex: 17000 entries, 0 to 16999\n",
            "Data columns (total 9 columns):\n",
            " #   Column              Non-Null Count  Dtype  \n",
            "---  ------              --------------  -----  \n",
            " 0   longitude           17000 non-null  float64\n",
            " 1   latitude            17000 non-null  float64\n",
            " 2   housing_median_age  17000 non-null  float64\n",
            " 3   total_rooms         17000 non-null  float64\n",
            " 4   total_bedrooms      17000 non-null  float64\n",
            " 5   population          17000 non-null  float64\n",
            " 6   households          17000 non-null  float64\n",
            " 7   median_income       17000 non-null  float64\n",
            " 8   median_house_value  17000 non-null  float64\n",
            "dtypes: float64(9)\n",
            "memory usage: 1.2 MB\n"
          ],
          "name": "stdout"
        }
      ]
    },
    {
      "cell_type": "code",
      "metadata": {
        "colab": {
          "base_uri": "https://localhost:8080/",
          "height": 402
        },
        "id": "7Bd30BYKN34U",
        "outputId": "59a2692b-3b5a-497d-cf2a-645948a4f9ee"
      },
      "source": [
        "df.drop(['households'],axis=1)"
      ],
      "execution_count": null,
      "outputs": [
        {
          "output_type": "execute_result",
          "data": {
            "text/html": [
              "<div>\n",
              "<style scoped>\n",
              "    .dataframe tbody tr th:only-of-type {\n",
              "        vertical-align: middle;\n",
              "    }\n",
              "\n",
              "    .dataframe tbody tr th {\n",
              "        vertical-align: top;\n",
              "    }\n",
              "\n",
              "    .dataframe thead th {\n",
              "        text-align: right;\n",
              "    }\n",
              "</style>\n",
              "<table border=\"1\" class=\"dataframe\">\n",
              "  <thead>\n",
              "    <tr style=\"text-align: right;\">\n",
              "      <th></th>\n",
              "      <th>longitude</th>\n",
              "      <th>latitude</th>\n",
              "      <th>housing_median_age</th>\n",
              "      <th>total_rooms</th>\n",
              "      <th>total_bedrooms</th>\n",
              "      <th>population</th>\n",
              "      <th>median_income</th>\n",
              "      <th>median_house_value</th>\n",
              "    </tr>\n",
              "  </thead>\n",
              "  <tbody>\n",
              "    <tr>\n",
              "      <th>0</th>\n",
              "      <td>-114.31</td>\n",
              "      <td>34.19</td>\n",
              "      <td>15.0</td>\n",
              "      <td>5612.0</td>\n",
              "      <td>1283.0</td>\n",
              "      <td>1015.0</td>\n",
              "      <td>1.4936</td>\n",
              "      <td>66900.0</td>\n",
              "    </tr>\n",
              "    <tr>\n",
              "      <th>1</th>\n",
              "      <td>-114.47</td>\n",
              "      <td>34.40</td>\n",
              "      <td>19.0</td>\n",
              "      <td>7650.0</td>\n",
              "      <td>1901.0</td>\n",
              "      <td>1129.0</td>\n",
              "      <td>1.8200</td>\n",
              "      <td>80100.0</td>\n",
              "    </tr>\n",
              "    <tr>\n",
              "      <th>2</th>\n",
              "      <td>-114.56</td>\n",
              "      <td>33.69</td>\n",
              "      <td>17.0</td>\n",
              "      <td>720.0</td>\n",
              "      <td>174.0</td>\n",
              "      <td>333.0</td>\n",
              "      <td>1.6509</td>\n",
              "      <td>85700.0</td>\n",
              "    </tr>\n",
              "    <tr>\n",
              "      <th>3</th>\n",
              "      <td>-114.57</td>\n",
              "      <td>33.64</td>\n",
              "      <td>14.0</td>\n",
              "      <td>1501.0</td>\n",
              "      <td>337.0</td>\n",
              "      <td>515.0</td>\n",
              "      <td>3.1917</td>\n",
              "      <td>73400.0</td>\n",
              "    </tr>\n",
              "    <tr>\n",
              "      <th>4</th>\n",
              "      <td>-114.57</td>\n",
              "      <td>33.57</td>\n",
              "      <td>20.0</td>\n",
              "      <td>1454.0</td>\n",
              "      <td>326.0</td>\n",
              "      <td>624.0</td>\n",
              "      <td>1.9250</td>\n",
              "      <td>65500.0</td>\n",
              "    </tr>\n",
              "    <tr>\n",
              "      <th>...</th>\n",
              "      <td>...</td>\n",
              "      <td>...</td>\n",
              "      <td>...</td>\n",
              "      <td>...</td>\n",
              "      <td>...</td>\n",
              "      <td>...</td>\n",
              "      <td>...</td>\n",
              "      <td>...</td>\n",
              "    </tr>\n",
              "    <tr>\n",
              "      <th>16995</th>\n",
              "      <td>-124.26</td>\n",
              "      <td>40.58</td>\n",
              "      <td>52.0</td>\n",
              "      <td>2217.0</td>\n",
              "      <td>394.0</td>\n",
              "      <td>907.0</td>\n",
              "      <td>2.3571</td>\n",
              "      <td>111400.0</td>\n",
              "    </tr>\n",
              "    <tr>\n",
              "      <th>16996</th>\n",
              "      <td>-124.27</td>\n",
              "      <td>40.69</td>\n",
              "      <td>36.0</td>\n",
              "      <td>2349.0</td>\n",
              "      <td>528.0</td>\n",
              "      <td>1194.0</td>\n",
              "      <td>2.5179</td>\n",
              "      <td>79000.0</td>\n",
              "    </tr>\n",
              "    <tr>\n",
              "      <th>16997</th>\n",
              "      <td>-124.30</td>\n",
              "      <td>41.84</td>\n",
              "      <td>17.0</td>\n",
              "      <td>2677.0</td>\n",
              "      <td>531.0</td>\n",
              "      <td>1244.0</td>\n",
              "      <td>3.0313</td>\n",
              "      <td>103600.0</td>\n",
              "    </tr>\n",
              "    <tr>\n",
              "      <th>16998</th>\n",
              "      <td>-124.30</td>\n",
              "      <td>41.80</td>\n",
              "      <td>19.0</td>\n",
              "      <td>2672.0</td>\n",
              "      <td>552.0</td>\n",
              "      <td>1298.0</td>\n",
              "      <td>1.9797</td>\n",
              "      <td>85800.0</td>\n",
              "    </tr>\n",
              "    <tr>\n",
              "      <th>16999</th>\n",
              "      <td>-124.35</td>\n",
              "      <td>40.54</td>\n",
              "      <td>52.0</td>\n",
              "      <td>1820.0</td>\n",
              "      <td>300.0</td>\n",
              "      <td>806.0</td>\n",
              "      <td>3.0147</td>\n",
              "      <td>94600.0</td>\n",
              "    </tr>\n",
              "  </tbody>\n",
              "</table>\n",
              "<p>17000 rows × 8 columns</p>\n",
              "</div>"
            ],
            "text/plain": [
              "       longitude  latitude  ...  median_income  median_house_value\n",
              "0        -114.31     34.19  ...         1.4936             66900.0\n",
              "1        -114.47     34.40  ...         1.8200             80100.0\n",
              "2        -114.56     33.69  ...         1.6509             85700.0\n",
              "3        -114.57     33.64  ...         3.1917             73400.0\n",
              "4        -114.57     33.57  ...         1.9250             65500.0\n",
              "...          ...       ...  ...            ...                 ...\n",
              "16995    -124.26     40.58  ...         2.3571            111400.0\n",
              "16996    -124.27     40.69  ...         2.5179             79000.0\n",
              "16997    -124.30     41.84  ...         3.0313            103600.0\n",
              "16998    -124.30     41.80  ...         1.9797             85800.0\n",
              "16999    -124.35     40.54  ...         3.0147             94600.0\n",
              "\n",
              "[17000 rows x 8 columns]"
            ]
          },
          "metadata": {
            "tags": []
          },
          "execution_count": 25
        }
      ]
    },
    {
      "cell_type": "code",
      "metadata": {
        "colab": {
          "base_uri": "https://localhost:8080/",
          "height": 402
        },
        "id": "tW814WvVPEwi",
        "outputId": "e5efcebb-d7b8-4b55-e35d-f5e8f6761aed"
      },
      "source": [
        "df"
      ],
      "execution_count": null,
      "outputs": [
        {
          "output_type": "execute_result",
          "data": {
            "text/html": [
              "<div>\n",
              "<style scoped>\n",
              "    .dataframe tbody tr th:only-of-type {\n",
              "        vertical-align: middle;\n",
              "    }\n",
              "\n",
              "    .dataframe tbody tr th {\n",
              "        vertical-align: top;\n",
              "    }\n",
              "\n",
              "    .dataframe thead th {\n",
              "        text-align: right;\n",
              "    }\n",
              "</style>\n",
              "<table border=\"1\" class=\"dataframe\">\n",
              "  <thead>\n",
              "    <tr style=\"text-align: right;\">\n",
              "      <th></th>\n",
              "      <th>longitude</th>\n",
              "      <th>latitude</th>\n",
              "      <th>housing_median_age</th>\n",
              "      <th>total_rooms</th>\n",
              "      <th>total_bedrooms</th>\n",
              "      <th>population</th>\n",
              "      <th>households</th>\n",
              "      <th>median_income</th>\n",
              "      <th>median_house_value</th>\n",
              "    </tr>\n",
              "  </thead>\n",
              "  <tbody>\n",
              "    <tr>\n",
              "      <th>0</th>\n",
              "      <td>-114.31</td>\n",
              "      <td>34.19</td>\n",
              "      <td>15.0</td>\n",
              "      <td>5612.0</td>\n",
              "      <td>1283.0</td>\n",
              "      <td>1015.0</td>\n",
              "      <td>472.0</td>\n",
              "      <td>1.4936</td>\n",
              "      <td>66900.0</td>\n",
              "    </tr>\n",
              "    <tr>\n",
              "      <th>1</th>\n",
              "      <td>-114.47</td>\n",
              "      <td>34.40</td>\n",
              "      <td>19.0</td>\n",
              "      <td>7650.0</td>\n",
              "      <td>1901.0</td>\n",
              "      <td>1129.0</td>\n",
              "      <td>463.0</td>\n",
              "      <td>1.8200</td>\n",
              "      <td>80100.0</td>\n",
              "    </tr>\n",
              "    <tr>\n",
              "      <th>2</th>\n",
              "      <td>-114.56</td>\n",
              "      <td>33.69</td>\n",
              "      <td>17.0</td>\n",
              "      <td>720.0</td>\n",
              "      <td>174.0</td>\n",
              "      <td>333.0</td>\n",
              "      <td>117.0</td>\n",
              "      <td>1.6509</td>\n",
              "      <td>85700.0</td>\n",
              "    </tr>\n",
              "    <tr>\n",
              "      <th>3</th>\n",
              "      <td>-114.57</td>\n",
              "      <td>33.64</td>\n",
              "      <td>14.0</td>\n",
              "      <td>1501.0</td>\n",
              "      <td>337.0</td>\n",
              "      <td>515.0</td>\n",
              "      <td>226.0</td>\n",
              "      <td>3.1917</td>\n",
              "      <td>73400.0</td>\n",
              "    </tr>\n",
              "    <tr>\n",
              "      <th>4</th>\n",
              "      <td>-114.57</td>\n",
              "      <td>33.57</td>\n",
              "      <td>20.0</td>\n",
              "      <td>1454.0</td>\n",
              "      <td>326.0</td>\n",
              "      <td>624.0</td>\n",
              "      <td>262.0</td>\n",
              "      <td>1.9250</td>\n",
              "      <td>65500.0</td>\n",
              "    </tr>\n",
              "    <tr>\n",
              "      <th>...</th>\n",
              "      <td>...</td>\n",
              "      <td>...</td>\n",
              "      <td>...</td>\n",
              "      <td>...</td>\n",
              "      <td>...</td>\n",
              "      <td>...</td>\n",
              "      <td>...</td>\n",
              "      <td>...</td>\n",
              "      <td>...</td>\n",
              "    </tr>\n",
              "    <tr>\n",
              "      <th>16995</th>\n",
              "      <td>-124.26</td>\n",
              "      <td>40.58</td>\n",
              "      <td>52.0</td>\n",
              "      <td>2217.0</td>\n",
              "      <td>394.0</td>\n",
              "      <td>907.0</td>\n",
              "      <td>369.0</td>\n",
              "      <td>2.3571</td>\n",
              "      <td>111400.0</td>\n",
              "    </tr>\n",
              "    <tr>\n",
              "      <th>16996</th>\n",
              "      <td>-124.27</td>\n",
              "      <td>40.69</td>\n",
              "      <td>36.0</td>\n",
              "      <td>2349.0</td>\n",
              "      <td>528.0</td>\n",
              "      <td>1194.0</td>\n",
              "      <td>465.0</td>\n",
              "      <td>2.5179</td>\n",
              "      <td>79000.0</td>\n",
              "    </tr>\n",
              "    <tr>\n",
              "      <th>16997</th>\n",
              "      <td>-124.30</td>\n",
              "      <td>41.84</td>\n",
              "      <td>17.0</td>\n",
              "      <td>2677.0</td>\n",
              "      <td>531.0</td>\n",
              "      <td>1244.0</td>\n",
              "      <td>456.0</td>\n",
              "      <td>3.0313</td>\n",
              "      <td>103600.0</td>\n",
              "    </tr>\n",
              "    <tr>\n",
              "      <th>16998</th>\n",
              "      <td>-124.30</td>\n",
              "      <td>41.80</td>\n",
              "      <td>19.0</td>\n",
              "      <td>2672.0</td>\n",
              "      <td>552.0</td>\n",
              "      <td>1298.0</td>\n",
              "      <td>478.0</td>\n",
              "      <td>1.9797</td>\n",
              "      <td>85800.0</td>\n",
              "    </tr>\n",
              "    <tr>\n",
              "      <th>16999</th>\n",
              "      <td>-124.35</td>\n",
              "      <td>40.54</td>\n",
              "      <td>52.0</td>\n",
              "      <td>1820.0</td>\n",
              "      <td>300.0</td>\n",
              "      <td>806.0</td>\n",
              "      <td>270.0</td>\n",
              "      <td>3.0147</td>\n",
              "      <td>94600.0</td>\n",
              "    </tr>\n",
              "  </tbody>\n",
              "</table>\n",
              "<p>17000 rows × 9 columns</p>\n",
              "</div>"
            ],
            "text/plain": [
              "       longitude  latitude  ...  median_income  median_house_value\n",
              "0        -114.31     34.19  ...         1.4936             66900.0\n",
              "1        -114.47     34.40  ...         1.8200             80100.0\n",
              "2        -114.56     33.69  ...         1.6509             85700.0\n",
              "3        -114.57     33.64  ...         3.1917             73400.0\n",
              "4        -114.57     33.57  ...         1.9250             65500.0\n",
              "...          ...       ...  ...            ...                 ...\n",
              "16995    -124.26     40.58  ...         2.3571            111400.0\n",
              "16996    -124.27     40.69  ...         2.5179             79000.0\n",
              "16997    -124.30     41.84  ...         3.0313            103600.0\n",
              "16998    -124.30     41.80  ...         1.9797             85800.0\n",
              "16999    -124.35     40.54  ...         3.0147             94600.0\n",
              "\n",
              "[17000 rows x 9 columns]"
            ]
          },
          "metadata": {
            "tags": []
          },
          "execution_count": 26
        }
      ]
    },
    {
      "cell_type": "code",
      "metadata": {
        "id": "bMrTIHX_PT3j"
      },
      "source": [
        "df.drop(['households'],axis=1,inplace=True)"
      ],
      "execution_count": null,
      "outputs": []
    },
    {
      "cell_type": "code",
      "metadata": {
        "colab": {
          "base_uri": "https://localhost:8080/",
          "height": 402
        },
        "id": "8kJ1xqntPqni",
        "outputId": "4f0ea538-cc98-49ff-c2b3-511807d77301"
      },
      "source": [
        "df"
      ],
      "execution_count": null,
      "outputs": [
        {
          "output_type": "execute_result",
          "data": {
            "text/html": [
              "<div>\n",
              "<style scoped>\n",
              "    .dataframe tbody tr th:only-of-type {\n",
              "        vertical-align: middle;\n",
              "    }\n",
              "\n",
              "    .dataframe tbody tr th {\n",
              "        vertical-align: top;\n",
              "    }\n",
              "\n",
              "    .dataframe thead th {\n",
              "        text-align: right;\n",
              "    }\n",
              "</style>\n",
              "<table border=\"1\" class=\"dataframe\">\n",
              "  <thead>\n",
              "    <tr style=\"text-align: right;\">\n",
              "      <th></th>\n",
              "      <th>longitude</th>\n",
              "      <th>latitude</th>\n",
              "      <th>housing_median_age</th>\n",
              "      <th>total_rooms</th>\n",
              "      <th>total_bedrooms</th>\n",
              "      <th>population</th>\n",
              "      <th>median_income</th>\n",
              "      <th>median_house_value</th>\n",
              "    </tr>\n",
              "  </thead>\n",
              "  <tbody>\n",
              "    <tr>\n",
              "      <th>0</th>\n",
              "      <td>-114.31</td>\n",
              "      <td>34.19</td>\n",
              "      <td>15.0</td>\n",
              "      <td>5612.0</td>\n",
              "      <td>1283.0</td>\n",
              "      <td>1015.0</td>\n",
              "      <td>1.4936</td>\n",
              "      <td>66900.0</td>\n",
              "    </tr>\n",
              "    <tr>\n",
              "      <th>1</th>\n",
              "      <td>-114.47</td>\n",
              "      <td>34.40</td>\n",
              "      <td>19.0</td>\n",
              "      <td>7650.0</td>\n",
              "      <td>1901.0</td>\n",
              "      <td>1129.0</td>\n",
              "      <td>1.8200</td>\n",
              "      <td>80100.0</td>\n",
              "    </tr>\n",
              "    <tr>\n",
              "      <th>2</th>\n",
              "      <td>-114.56</td>\n",
              "      <td>33.69</td>\n",
              "      <td>17.0</td>\n",
              "      <td>720.0</td>\n",
              "      <td>174.0</td>\n",
              "      <td>333.0</td>\n",
              "      <td>1.6509</td>\n",
              "      <td>85700.0</td>\n",
              "    </tr>\n",
              "    <tr>\n",
              "      <th>3</th>\n",
              "      <td>-114.57</td>\n",
              "      <td>33.64</td>\n",
              "      <td>14.0</td>\n",
              "      <td>1501.0</td>\n",
              "      <td>337.0</td>\n",
              "      <td>515.0</td>\n",
              "      <td>3.1917</td>\n",
              "      <td>73400.0</td>\n",
              "    </tr>\n",
              "    <tr>\n",
              "      <th>4</th>\n",
              "      <td>-114.57</td>\n",
              "      <td>33.57</td>\n",
              "      <td>20.0</td>\n",
              "      <td>1454.0</td>\n",
              "      <td>326.0</td>\n",
              "      <td>624.0</td>\n",
              "      <td>1.9250</td>\n",
              "      <td>65500.0</td>\n",
              "    </tr>\n",
              "    <tr>\n",
              "      <th>...</th>\n",
              "      <td>...</td>\n",
              "      <td>...</td>\n",
              "      <td>...</td>\n",
              "      <td>...</td>\n",
              "      <td>...</td>\n",
              "      <td>...</td>\n",
              "      <td>...</td>\n",
              "      <td>...</td>\n",
              "    </tr>\n",
              "    <tr>\n",
              "      <th>16995</th>\n",
              "      <td>-124.26</td>\n",
              "      <td>40.58</td>\n",
              "      <td>52.0</td>\n",
              "      <td>2217.0</td>\n",
              "      <td>394.0</td>\n",
              "      <td>907.0</td>\n",
              "      <td>2.3571</td>\n",
              "      <td>111400.0</td>\n",
              "    </tr>\n",
              "    <tr>\n",
              "      <th>16996</th>\n",
              "      <td>-124.27</td>\n",
              "      <td>40.69</td>\n",
              "      <td>36.0</td>\n",
              "      <td>2349.0</td>\n",
              "      <td>528.0</td>\n",
              "      <td>1194.0</td>\n",
              "      <td>2.5179</td>\n",
              "      <td>79000.0</td>\n",
              "    </tr>\n",
              "    <tr>\n",
              "      <th>16997</th>\n",
              "      <td>-124.30</td>\n",
              "      <td>41.84</td>\n",
              "      <td>17.0</td>\n",
              "      <td>2677.0</td>\n",
              "      <td>531.0</td>\n",
              "      <td>1244.0</td>\n",
              "      <td>3.0313</td>\n",
              "      <td>103600.0</td>\n",
              "    </tr>\n",
              "    <tr>\n",
              "      <th>16998</th>\n",
              "      <td>-124.30</td>\n",
              "      <td>41.80</td>\n",
              "      <td>19.0</td>\n",
              "      <td>2672.0</td>\n",
              "      <td>552.0</td>\n",
              "      <td>1298.0</td>\n",
              "      <td>1.9797</td>\n",
              "      <td>85800.0</td>\n",
              "    </tr>\n",
              "    <tr>\n",
              "      <th>16999</th>\n",
              "      <td>-124.35</td>\n",
              "      <td>40.54</td>\n",
              "      <td>52.0</td>\n",
              "      <td>1820.0</td>\n",
              "      <td>300.0</td>\n",
              "      <td>806.0</td>\n",
              "      <td>3.0147</td>\n",
              "      <td>94600.0</td>\n",
              "    </tr>\n",
              "  </tbody>\n",
              "</table>\n",
              "<p>17000 rows × 8 columns</p>\n",
              "</div>"
            ],
            "text/plain": [
              "       longitude  latitude  ...  median_income  median_house_value\n",
              "0        -114.31     34.19  ...         1.4936             66900.0\n",
              "1        -114.47     34.40  ...         1.8200             80100.0\n",
              "2        -114.56     33.69  ...         1.6509             85700.0\n",
              "3        -114.57     33.64  ...         3.1917             73400.0\n",
              "4        -114.57     33.57  ...         1.9250             65500.0\n",
              "...          ...       ...  ...            ...                 ...\n",
              "16995    -124.26     40.58  ...         2.3571            111400.0\n",
              "16996    -124.27     40.69  ...         2.5179             79000.0\n",
              "16997    -124.30     41.84  ...         3.0313            103600.0\n",
              "16998    -124.30     41.80  ...         1.9797             85800.0\n",
              "16999    -124.35     40.54  ...         3.0147             94600.0\n",
              "\n",
              "[17000 rows x 8 columns]"
            ]
          },
          "metadata": {
            "tags": []
          },
          "execution_count": 28
        }
      ]
    },
    {
      "cell_type": "code",
      "metadata": {
        "colab": {
          "base_uri": "https://localhost:8080/"
        },
        "id": "kmbcO8FCQynN",
        "outputId": "e08062b9-b2be-4718-b607-55a4dd0a4e59"
      },
      "source": [
        "df.columns"
      ],
      "execution_count": null,
      "outputs": [
        {
          "output_type": "execute_result",
          "data": {
            "text/plain": [
              "Index(['longitude', 'latitude', 'housing_median_age', 'total_rooms',\n",
              "       'total_bedrooms', 'population', 'median_income', 'median_house_value'],\n",
              "      dtype='object')"
            ]
          },
          "metadata": {
            "tags": []
          },
          "execution_count": 29
        }
      ]
    },
    {
      "cell_type": "code",
      "metadata": {
        "id": "Ujv1nvKrRDKa"
      },
      "source": [
        "df.columns = [each.strip() for each in df.columns]"
      ],
      "execution_count": null,
      "outputs": []
    },
    {
      "cell_type": "code",
      "metadata": {
        "colab": {
          "base_uri": "https://localhost:8080/"
        },
        "id": "_vyI1fbNRD53",
        "outputId": "4e1c7b8d-d229-4321-85d1-3054220ab054"
      },
      "source": [
        "# series\n",
        "df['housing_median_age'].unique() #unique values"
      ],
      "execution_count": null,
      "outputs": [
        {
          "output_type": "execute_result",
          "data": {
            "text/plain": [
              "array([15., 19., 17., 14., 20., 29., 25., 41., 34., 46., 16., 21., 48.,\n",
              "       31., 28., 24., 18., 30., 32., 23., 38., 35., 33., 13., 11., 10.,\n",
              "        6., 12., 27., 22.,  5.,  8., 37.,  3., 44.,  2., 26.,  9.,  7.,\n",
              "       36.,  4., 52., 40., 43., 42., 39., 49., 47., 50., 45., 51.,  1.])"
            ]
          },
          "metadata": {
            "tags": []
          },
          "execution_count": 32
        }
      ]
    },
    {
      "cell_type": "code",
      "metadata": {
        "colab": {
          "base_uri": "https://localhost:8080/"
        },
        "id": "I0_CXlV3RFp8",
        "outputId": "d6e8ea5c-4fa6-436c-e87b-4252a72575b3"
      },
      "source": [
        "df['housing_median_age'].nunique() #total unique values"
      ],
      "execution_count": null,
      "outputs": [
        {
          "output_type": "execute_result",
          "data": {
            "text/plain": [
              "52"
            ]
          },
          "metadata": {
            "tags": []
          },
          "execution_count": 33
        }
      ]
    },
    {
      "cell_type": "code",
      "metadata": {
        "colab": {
          "base_uri": "https://localhost:8080/",
          "height": 195
        },
        "id": "ojAZGsMTR6sh",
        "outputId": "15608a35-ddc3-426c-d2a0-eaf3e438643d"
      },
      "source": [
        "df.head()"
      ],
      "execution_count": null,
      "outputs": [
        {
          "output_type": "execute_result",
          "data": {
            "text/html": [
              "<div>\n",
              "<style scoped>\n",
              "    .dataframe tbody tr th:only-of-type {\n",
              "        vertical-align: middle;\n",
              "    }\n",
              "\n",
              "    .dataframe tbody tr th {\n",
              "        vertical-align: top;\n",
              "    }\n",
              "\n",
              "    .dataframe thead th {\n",
              "        text-align: right;\n",
              "    }\n",
              "</style>\n",
              "<table border=\"1\" class=\"dataframe\">\n",
              "  <thead>\n",
              "    <tr style=\"text-align: right;\">\n",
              "      <th></th>\n",
              "      <th>longitude</th>\n",
              "      <th>latitude</th>\n",
              "      <th>housing_median_age</th>\n",
              "      <th>total_rooms</th>\n",
              "      <th>total_bedrooms</th>\n",
              "      <th>population</th>\n",
              "      <th>median_income</th>\n",
              "      <th>median_house_value</th>\n",
              "    </tr>\n",
              "  </thead>\n",
              "  <tbody>\n",
              "    <tr>\n",
              "      <th>0</th>\n",
              "      <td>-114.31</td>\n",
              "      <td>34.19</td>\n",
              "      <td>15.0</td>\n",
              "      <td>5612.0</td>\n",
              "      <td>1283.0</td>\n",
              "      <td>1015.0</td>\n",
              "      <td>1.4936</td>\n",
              "      <td>66900.0</td>\n",
              "    </tr>\n",
              "    <tr>\n",
              "      <th>1</th>\n",
              "      <td>-114.47</td>\n",
              "      <td>34.40</td>\n",
              "      <td>19.0</td>\n",
              "      <td>7650.0</td>\n",
              "      <td>1901.0</td>\n",
              "      <td>1129.0</td>\n",
              "      <td>1.8200</td>\n",
              "      <td>80100.0</td>\n",
              "    </tr>\n",
              "    <tr>\n",
              "      <th>2</th>\n",
              "      <td>-114.56</td>\n",
              "      <td>33.69</td>\n",
              "      <td>17.0</td>\n",
              "      <td>720.0</td>\n",
              "      <td>174.0</td>\n",
              "      <td>333.0</td>\n",
              "      <td>1.6509</td>\n",
              "      <td>85700.0</td>\n",
              "    </tr>\n",
              "    <tr>\n",
              "      <th>3</th>\n",
              "      <td>-114.57</td>\n",
              "      <td>33.64</td>\n",
              "      <td>14.0</td>\n",
              "      <td>1501.0</td>\n",
              "      <td>337.0</td>\n",
              "      <td>515.0</td>\n",
              "      <td>3.1917</td>\n",
              "      <td>73400.0</td>\n",
              "    </tr>\n",
              "    <tr>\n",
              "      <th>4</th>\n",
              "      <td>-114.57</td>\n",
              "      <td>33.57</td>\n",
              "      <td>20.0</td>\n",
              "      <td>1454.0</td>\n",
              "      <td>326.0</td>\n",
              "      <td>624.0</td>\n",
              "      <td>1.9250</td>\n",
              "      <td>65500.0</td>\n",
              "    </tr>\n",
              "  </tbody>\n",
              "</table>\n",
              "</div>"
            ],
            "text/plain": [
              "   longitude  latitude  ...  median_income  median_house_value\n",
              "0    -114.31     34.19  ...         1.4936             66900.0\n",
              "1    -114.47     34.40  ...         1.8200             80100.0\n",
              "2    -114.56     33.69  ...         1.6509             85700.0\n",
              "3    -114.57     33.64  ...         3.1917             73400.0\n",
              "4    -114.57     33.57  ...         1.9250             65500.0\n",
              "\n",
              "[5 rows x 8 columns]"
            ]
          },
          "metadata": {
            "tags": []
          },
          "execution_count": 34
        }
      ]
    },
    {
      "cell_type": "markdown",
      "metadata": {
        "id": "A5ytLcUaSbK3"
      },
      "source": [
        "pd.merge\n",
        "pd.concat"
      ]
    },
    {
      "cell_type": "code",
      "metadata": {
        "id": "wPm6kBPOSMkE"
      },
      "source": [
        "df['Total Rooms/Population ratio'] = df['total_rooms'] /df['population']"
      ],
      "execution_count": null,
      "outputs": []
    },
    {
      "cell_type": "code",
      "metadata": {
        "colab": {
          "base_uri": "https://localhost:8080/",
          "height": 435
        },
        "id": "6IKOqvgzS-QC",
        "outputId": "4cde50f3-858c-4ab4-a155-6d6f9da2efc3"
      },
      "source": [
        "df"
      ],
      "execution_count": null,
      "outputs": [
        {
          "output_type": "execute_result",
          "data": {
            "text/html": [
              "<div>\n",
              "<style scoped>\n",
              "    .dataframe tbody tr th:only-of-type {\n",
              "        vertical-align: middle;\n",
              "    }\n",
              "\n",
              "    .dataframe tbody tr th {\n",
              "        vertical-align: top;\n",
              "    }\n",
              "\n",
              "    .dataframe thead th {\n",
              "        text-align: right;\n",
              "    }\n",
              "</style>\n",
              "<table border=\"1\" class=\"dataframe\">\n",
              "  <thead>\n",
              "    <tr style=\"text-align: right;\">\n",
              "      <th></th>\n",
              "      <th>longitude</th>\n",
              "      <th>latitude</th>\n",
              "      <th>housing_median_age</th>\n",
              "      <th>total_rooms</th>\n",
              "      <th>total_bedrooms</th>\n",
              "      <th>population</th>\n",
              "      <th>median_income</th>\n",
              "      <th>median_house_value</th>\n",
              "      <th>Total Rooms/Population ratio</th>\n",
              "    </tr>\n",
              "  </thead>\n",
              "  <tbody>\n",
              "    <tr>\n",
              "      <th>0</th>\n",
              "      <td>-114.31</td>\n",
              "      <td>34.19</td>\n",
              "      <td>15.0</td>\n",
              "      <td>5612.0</td>\n",
              "      <td>1283.0</td>\n",
              "      <td>1015.0</td>\n",
              "      <td>1.4936</td>\n",
              "      <td>66900.0</td>\n",
              "      <td>5.529064</td>\n",
              "    </tr>\n",
              "    <tr>\n",
              "      <th>1</th>\n",
              "      <td>-114.47</td>\n",
              "      <td>34.40</td>\n",
              "      <td>19.0</td>\n",
              "      <td>7650.0</td>\n",
              "      <td>1901.0</td>\n",
              "      <td>1129.0</td>\n",
              "      <td>1.8200</td>\n",
              "      <td>80100.0</td>\n",
              "      <td>6.775908</td>\n",
              "    </tr>\n",
              "    <tr>\n",
              "      <th>2</th>\n",
              "      <td>-114.56</td>\n",
              "      <td>33.69</td>\n",
              "      <td>17.0</td>\n",
              "      <td>720.0</td>\n",
              "      <td>174.0</td>\n",
              "      <td>333.0</td>\n",
              "      <td>1.6509</td>\n",
              "      <td>85700.0</td>\n",
              "      <td>2.162162</td>\n",
              "    </tr>\n",
              "    <tr>\n",
              "      <th>3</th>\n",
              "      <td>-114.57</td>\n",
              "      <td>33.64</td>\n",
              "      <td>14.0</td>\n",
              "      <td>1501.0</td>\n",
              "      <td>337.0</td>\n",
              "      <td>515.0</td>\n",
              "      <td>3.1917</td>\n",
              "      <td>73400.0</td>\n",
              "      <td>2.914563</td>\n",
              "    </tr>\n",
              "    <tr>\n",
              "      <th>4</th>\n",
              "      <td>-114.57</td>\n",
              "      <td>33.57</td>\n",
              "      <td>20.0</td>\n",
              "      <td>1454.0</td>\n",
              "      <td>326.0</td>\n",
              "      <td>624.0</td>\n",
              "      <td>1.9250</td>\n",
              "      <td>65500.0</td>\n",
              "      <td>2.330128</td>\n",
              "    </tr>\n",
              "    <tr>\n",
              "      <th>...</th>\n",
              "      <td>...</td>\n",
              "      <td>...</td>\n",
              "      <td>...</td>\n",
              "      <td>...</td>\n",
              "      <td>...</td>\n",
              "      <td>...</td>\n",
              "      <td>...</td>\n",
              "      <td>...</td>\n",
              "      <td>...</td>\n",
              "    </tr>\n",
              "    <tr>\n",
              "      <th>16995</th>\n",
              "      <td>-124.26</td>\n",
              "      <td>40.58</td>\n",
              "      <td>52.0</td>\n",
              "      <td>2217.0</td>\n",
              "      <td>394.0</td>\n",
              "      <td>907.0</td>\n",
              "      <td>2.3571</td>\n",
              "      <td>111400.0</td>\n",
              "      <td>2.444322</td>\n",
              "    </tr>\n",
              "    <tr>\n",
              "      <th>16996</th>\n",
              "      <td>-124.27</td>\n",
              "      <td>40.69</td>\n",
              "      <td>36.0</td>\n",
              "      <td>2349.0</td>\n",
              "      <td>528.0</td>\n",
              "      <td>1194.0</td>\n",
              "      <td>2.5179</td>\n",
              "      <td>79000.0</td>\n",
              "      <td>1.967337</td>\n",
              "    </tr>\n",
              "    <tr>\n",
              "      <th>16997</th>\n",
              "      <td>-124.30</td>\n",
              "      <td>41.84</td>\n",
              "      <td>17.0</td>\n",
              "      <td>2677.0</td>\n",
              "      <td>531.0</td>\n",
              "      <td>1244.0</td>\n",
              "      <td>3.0313</td>\n",
              "      <td>103600.0</td>\n",
              "      <td>2.151929</td>\n",
              "    </tr>\n",
              "    <tr>\n",
              "      <th>16998</th>\n",
              "      <td>-124.30</td>\n",
              "      <td>41.80</td>\n",
              "      <td>19.0</td>\n",
              "      <td>2672.0</td>\n",
              "      <td>552.0</td>\n",
              "      <td>1298.0</td>\n",
              "      <td>1.9797</td>\n",
              "      <td>85800.0</td>\n",
              "      <td>2.058552</td>\n",
              "    </tr>\n",
              "    <tr>\n",
              "      <th>16999</th>\n",
              "      <td>-124.35</td>\n",
              "      <td>40.54</td>\n",
              "      <td>52.0</td>\n",
              "      <td>1820.0</td>\n",
              "      <td>300.0</td>\n",
              "      <td>806.0</td>\n",
              "      <td>3.0147</td>\n",
              "      <td>94600.0</td>\n",
              "      <td>2.258065</td>\n",
              "    </tr>\n",
              "  </tbody>\n",
              "</table>\n",
              "<p>17000 rows × 9 columns</p>\n",
              "</div>"
            ],
            "text/plain": [
              "       longitude  latitude  ...  median_house_value  Total Rooms/Population ratio\n",
              "0        -114.31     34.19  ...             66900.0                      5.529064\n",
              "1        -114.47     34.40  ...             80100.0                      6.775908\n",
              "2        -114.56     33.69  ...             85700.0                      2.162162\n",
              "3        -114.57     33.64  ...             73400.0                      2.914563\n",
              "4        -114.57     33.57  ...             65500.0                      2.330128\n",
              "...          ...       ...  ...                 ...                           ...\n",
              "16995    -124.26     40.58  ...            111400.0                      2.444322\n",
              "16996    -124.27     40.69  ...             79000.0                      1.967337\n",
              "16997    -124.30     41.84  ...            103600.0                      2.151929\n",
              "16998    -124.30     41.80  ...             85800.0                      2.058552\n",
              "16999    -124.35     40.54  ...             94600.0                      2.258065\n",
              "\n",
              "[17000 rows x 9 columns]"
            ]
          },
          "metadata": {
            "tags": []
          },
          "execution_count": 36
        }
      ]
    },
    {
      "cell_type": "code",
      "metadata": {
        "id": "cK3iIPrwS_Mv"
      },
      "source": [
        "df['median_house_value'] = np.arange(1,17001)"
      ],
      "execution_count": null,
      "outputs": []
    },
    {
      "cell_type": "code",
      "metadata": {
        "colab": {
          "base_uri": "https://localhost:8080/",
          "height": 435
        },
        "id": "tXG2L6eCTkOE",
        "outputId": "b92e3416-ac13-494e-fb6f-12462fea369d"
      },
      "source": [
        "df"
      ],
      "execution_count": null,
      "outputs": [
        {
          "output_type": "execute_result",
          "data": {
            "text/html": [
              "<div>\n",
              "<style scoped>\n",
              "    .dataframe tbody tr th:only-of-type {\n",
              "        vertical-align: middle;\n",
              "    }\n",
              "\n",
              "    .dataframe tbody tr th {\n",
              "        vertical-align: top;\n",
              "    }\n",
              "\n",
              "    .dataframe thead th {\n",
              "        text-align: right;\n",
              "    }\n",
              "</style>\n",
              "<table border=\"1\" class=\"dataframe\">\n",
              "  <thead>\n",
              "    <tr style=\"text-align: right;\">\n",
              "      <th></th>\n",
              "      <th>longitude</th>\n",
              "      <th>latitude</th>\n",
              "      <th>housing_median_age</th>\n",
              "      <th>total_rooms</th>\n",
              "      <th>total_bedrooms</th>\n",
              "      <th>population</th>\n",
              "      <th>median_income</th>\n",
              "      <th>median_house_value</th>\n",
              "      <th>Total Rooms/Population ratio</th>\n",
              "    </tr>\n",
              "  </thead>\n",
              "  <tbody>\n",
              "    <tr>\n",
              "      <th>0</th>\n",
              "      <td>-114.31</td>\n",
              "      <td>34.19</td>\n",
              "      <td>15.0</td>\n",
              "      <td>5612.0</td>\n",
              "      <td>1283.0</td>\n",
              "      <td>1015.0</td>\n",
              "      <td>1.4936</td>\n",
              "      <td>1</td>\n",
              "      <td>5.529064</td>\n",
              "    </tr>\n",
              "    <tr>\n",
              "      <th>1</th>\n",
              "      <td>-114.47</td>\n",
              "      <td>34.40</td>\n",
              "      <td>19.0</td>\n",
              "      <td>7650.0</td>\n",
              "      <td>1901.0</td>\n",
              "      <td>1129.0</td>\n",
              "      <td>1.8200</td>\n",
              "      <td>2</td>\n",
              "      <td>6.775908</td>\n",
              "    </tr>\n",
              "    <tr>\n",
              "      <th>2</th>\n",
              "      <td>-114.56</td>\n",
              "      <td>33.69</td>\n",
              "      <td>17.0</td>\n",
              "      <td>720.0</td>\n",
              "      <td>174.0</td>\n",
              "      <td>333.0</td>\n",
              "      <td>1.6509</td>\n",
              "      <td>3</td>\n",
              "      <td>2.162162</td>\n",
              "    </tr>\n",
              "    <tr>\n",
              "      <th>3</th>\n",
              "      <td>-114.57</td>\n",
              "      <td>33.64</td>\n",
              "      <td>14.0</td>\n",
              "      <td>1501.0</td>\n",
              "      <td>337.0</td>\n",
              "      <td>515.0</td>\n",
              "      <td>3.1917</td>\n",
              "      <td>4</td>\n",
              "      <td>2.914563</td>\n",
              "    </tr>\n",
              "    <tr>\n",
              "      <th>4</th>\n",
              "      <td>-114.57</td>\n",
              "      <td>33.57</td>\n",
              "      <td>20.0</td>\n",
              "      <td>1454.0</td>\n",
              "      <td>326.0</td>\n",
              "      <td>624.0</td>\n",
              "      <td>1.9250</td>\n",
              "      <td>5</td>\n",
              "      <td>2.330128</td>\n",
              "    </tr>\n",
              "    <tr>\n",
              "      <th>...</th>\n",
              "      <td>...</td>\n",
              "      <td>...</td>\n",
              "      <td>...</td>\n",
              "      <td>...</td>\n",
              "      <td>...</td>\n",
              "      <td>...</td>\n",
              "      <td>...</td>\n",
              "      <td>...</td>\n",
              "      <td>...</td>\n",
              "    </tr>\n",
              "    <tr>\n",
              "      <th>16995</th>\n",
              "      <td>-124.26</td>\n",
              "      <td>40.58</td>\n",
              "      <td>52.0</td>\n",
              "      <td>2217.0</td>\n",
              "      <td>394.0</td>\n",
              "      <td>907.0</td>\n",
              "      <td>2.3571</td>\n",
              "      <td>16996</td>\n",
              "      <td>2.444322</td>\n",
              "    </tr>\n",
              "    <tr>\n",
              "      <th>16996</th>\n",
              "      <td>-124.27</td>\n",
              "      <td>40.69</td>\n",
              "      <td>36.0</td>\n",
              "      <td>2349.0</td>\n",
              "      <td>528.0</td>\n",
              "      <td>1194.0</td>\n",
              "      <td>2.5179</td>\n",
              "      <td>16997</td>\n",
              "      <td>1.967337</td>\n",
              "    </tr>\n",
              "    <tr>\n",
              "      <th>16997</th>\n",
              "      <td>-124.30</td>\n",
              "      <td>41.84</td>\n",
              "      <td>17.0</td>\n",
              "      <td>2677.0</td>\n",
              "      <td>531.0</td>\n",
              "      <td>1244.0</td>\n",
              "      <td>3.0313</td>\n",
              "      <td>16998</td>\n",
              "      <td>2.151929</td>\n",
              "    </tr>\n",
              "    <tr>\n",
              "      <th>16998</th>\n",
              "      <td>-124.30</td>\n",
              "      <td>41.80</td>\n",
              "      <td>19.0</td>\n",
              "      <td>2672.0</td>\n",
              "      <td>552.0</td>\n",
              "      <td>1298.0</td>\n",
              "      <td>1.9797</td>\n",
              "      <td>16999</td>\n",
              "      <td>2.058552</td>\n",
              "    </tr>\n",
              "    <tr>\n",
              "      <th>16999</th>\n",
              "      <td>-124.35</td>\n",
              "      <td>40.54</td>\n",
              "      <td>52.0</td>\n",
              "      <td>1820.0</td>\n",
              "      <td>300.0</td>\n",
              "      <td>806.0</td>\n",
              "      <td>3.0147</td>\n",
              "      <td>17000</td>\n",
              "      <td>2.258065</td>\n",
              "    </tr>\n",
              "  </tbody>\n",
              "</table>\n",
              "<p>17000 rows × 9 columns</p>\n",
              "</div>"
            ],
            "text/plain": [
              "       longitude  latitude  ...  median_house_value  Total Rooms/Population ratio\n",
              "0        -114.31     34.19  ...                   1                      5.529064\n",
              "1        -114.47     34.40  ...                   2                      6.775908\n",
              "2        -114.56     33.69  ...                   3                      2.162162\n",
              "3        -114.57     33.64  ...                   4                      2.914563\n",
              "4        -114.57     33.57  ...                   5                      2.330128\n",
              "...          ...       ...  ...                 ...                           ...\n",
              "16995    -124.26     40.58  ...               16996                      2.444322\n",
              "16996    -124.27     40.69  ...               16997                      1.967337\n",
              "16997    -124.30     41.84  ...               16998                      2.151929\n",
              "16998    -124.30     41.80  ...               16999                      2.058552\n",
              "16999    -124.35     40.54  ...               17000                      2.258065\n",
              "\n",
              "[17000 rows x 9 columns]"
            ]
          },
          "metadata": {
            "tags": []
          },
          "execution_count": 41
        }
      ]
    },
    {
      "cell_type": "markdown",
      "metadata": {
        "id": "Q-btI6xhT0tC"
      },
      "source": [
        "# **Boolean Masks**"
      ]
    },
    {
      "cell_type": "code",
      "metadata": {
        "colab": {
          "base_uri": "https://localhost:8080/",
          "height": 435
        },
        "id": "aDd5lkr1T24V",
        "outputId": "63e5bc9d-1f86-4125-f0c6-f9bd1488a635"
      },
      "source": [
        "room_mask = df['total_rooms'] > 2000\n",
        "\n",
        "df[room_mask]"
      ],
      "execution_count": null,
      "outputs": [
        {
          "output_type": "execute_result",
          "data": {
            "text/html": [
              "<div>\n",
              "<style scoped>\n",
              "    .dataframe tbody tr th:only-of-type {\n",
              "        vertical-align: middle;\n",
              "    }\n",
              "\n",
              "    .dataframe tbody tr th {\n",
              "        vertical-align: top;\n",
              "    }\n",
              "\n",
              "    .dataframe thead th {\n",
              "        text-align: right;\n",
              "    }\n",
              "</style>\n",
              "<table border=\"1\" class=\"dataframe\">\n",
              "  <thead>\n",
              "    <tr style=\"text-align: right;\">\n",
              "      <th></th>\n",
              "      <th>longitude</th>\n",
              "      <th>latitude</th>\n",
              "      <th>housing_median_age</th>\n",
              "      <th>total_rooms</th>\n",
              "      <th>total_bedrooms</th>\n",
              "      <th>population</th>\n",
              "      <th>median_income</th>\n",
              "      <th>median_house_value</th>\n",
              "      <th>Total Rooms/Population ratio</th>\n",
              "    </tr>\n",
              "  </thead>\n",
              "  <tbody>\n",
              "    <tr>\n",
              "      <th>0</th>\n",
              "      <td>-114.31</td>\n",
              "      <td>34.19</td>\n",
              "      <td>15.0</td>\n",
              "      <td>5612.0</td>\n",
              "      <td>1283.0</td>\n",
              "      <td>1015.0</td>\n",
              "      <td>1.4936</td>\n",
              "      <td>1</td>\n",
              "      <td>5.529064</td>\n",
              "    </tr>\n",
              "    <tr>\n",
              "      <th>1</th>\n",
              "      <td>-114.47</td>\n",
              "      <td>34.40</td>\n",
              "      <td>19.0</td>\n",
              "      <td>7650.0</td>\n",
              "      <td>1901.0</td>\n",
              "      <td>1129.0</td>\n",
              "      <td>1.8200</td>\n",
              "      <td>2</td>\n",
              "      <td>6.775908</td>\n",
              "    </tr>\n",
              "    <tr>\n",
              "      <th>6</th>\n",
              "      <td>-114.58</td>\n",
              "      <td>33.61</td>\n",
              "      <td>25.0</td>\n",
              "      <td>2907.0</td>\n",
              "      <td>680.0</td>\n",
              "      <td>1841.0</td>\n",
              "      <td>2.6768</td>\n",
              "      <td>7</td>\n",
              "      <td>1.579033</td>\n",
              "    </tr>\n",
              "    <tr>\n",
              "      <th>8</th>\n",
              "      <td>-114.59</td>\n",
              "      <td>33.61</td>\n",
              "      <td>34.0</td>\n",
              "      <td>4789.0</td>\n",
              "      <td>1175.0</td>\n",
              "      <td>3134.0</td>\n",
              "      <td>2.1782</td>\n",
              "      <td>9</td>\n",
              "      <td>1.528079</td>\n",
              "    </tr>\n",
              "    <tr>\n",
              "      <th>10</th>\n",
              "      <td>-114.60</td>\n",
              "      <td>33.62</td>\n",
              "      <td>16.0</td>\n",
              "      <td>3741.0</td>\n",
              "      <td>801.0</td>\n",
              "      <td>2434.0</td>\n",
              "      <td>2.6797</td>\n",
              "      <td>11</td>\n",
              "      <td>1.536976</td>\n",
              "    </tr>\n",
              "    <tr>\n",
              "      <th>...</th>\n",
              "      <td>...</td>\n",
              "      <td>...</td>\n",
              "      <td>...</td>\n",
              "      <td>...</td>\n",
              "      <td>...</td>\n",
              "      <td>...</td>\n",
              "      <td>...</td>\n",
              "      <td>...</td>\n",
              "      <td>...</td>\n",
              "    </tr>\n",
              "    <tr>\n",
              "      <th>16993</th>\n",
              "      <td>-124.23</td>\n",
              "      <td>40.54</td>\n",
              "      <td>52.0</td>\n",
              "      <td>2694.0</td>\n",
              "      <td>453.0</td>\n",
              "      <td>1152.0</td>\n",
              "      <td>3.0806</td>\n",
              "      <td>16994</td>\n",
              "      <td>2.338542</td>\n",
              "    </tr>\n",
              "    <tr>\n",
              "      <th>16995</th>\n",
              "      <td>-124.26</td>\n",
              "      <td>40.58</td>\n",
              "      <td>52.0</td>\n",
              "      <td>2217.0</td>\n",
              "      <td>394.0</td>\n",
              "      <td>907.0</td>\n",
              "      <td>2.3571</td>\n",
              "      <td>16996</td>\n",
              "      <td>2.444322</td>\n",
              "    </tr>\n",
              "    <tr>\n",
              "      <th>16996</th>\n",
              "      <td>-124.27</td>\n",
              "      <td>40.69</td>\n",
              "      <td>36.0</td>\n",
              "      <td>2349.0</td>\n",
              "      <td>528.0</td>\n",
              "      <td>1194.0</td>\n",
              "      <td>2.5179</td>\n",
              "      <td>16997</td>\n",
              "      <td>1.967337</td>\n",
              "    </tr>\n",
              "    <tr>\n",
              "      <th>16997</th>\n",
              "      <td>-124.30</td>\n",
              "      <td>41.84</td>\n",
              "      <td>17.0</td>\n",
              "      <td>2677.0</td>\n",
              "      <td>531.0</td>\n",
              "      <td>1244.0</td>\n",
              "      <td>3.0313</td>\n",
              "      <td>16998</td>\n",
              "      <td>2.151929</td>\n",
              "    </tr>\n",
              "    <tr>\n",
              "      <th>16998</th>\n",
              "      <td>-124.30</td>\n",
              "      <td>41.80</td>\n",
              "      <td>19.0</td>\n",
              "      <td>2672.0</td>\n",
              "      <td>552.0</td>\n",
              "      <td>1298.0</td>\n",
              "      <td>1.9797</td>\n",
              "      <td>16999</td>\n",
              "      <td>2.058552</td>\n",
              "    </tr>\n",
              "  </tbody>\n",
              "</table>\n",
              "<p>9242 rows × 9 columns</p>\n",
              "</div>"
            ],
            "text/plain": [
              "       longitude  latitude  ...  median_house_value  Total Rooms/Population ratio\n",
              "0        -114.31     34.19  ...                   1                      5.529064\n",
              "1        -114.47     34.40  ...                   2                      6.775908\n",
              "6        -114.58     33.61  ...                   7                      1.579033\n",
              "8        -114.59     33.61  ...                   9                      1.528079\n",
              "10       -114.60     33.62  ...                  11                      1.536976\n",
              "...          ...       ...  ...                 ...                           ...\n",
              "16993    -124.23     40.54  ...               16994                      2.338542\n",
              "16995    -124.26     40.58  ...               16996                      2.444322\n",
              "16996    -124.27     40.69  ...               16997                      1.967337\n",
              "16997    -124.30     41.84  ...               16998                      2.151929\n",
              "16998    -124.30     41.80  ...               16999                      2.058552\n",
              "\n",
              "[9242 rows x 9 columns]"
            ]
          },
          "metadata": {
            "tags": []
          },
          "execution_count": 47
        }
      ]
    },
    {
      "cell_type": "code",
      "metadata": {
        "id": "X32UsSjhTvbZ"
      },
      "source": [
        "bed_mask = df['total_bedrooms'] >3000"
      ],
      "execution_count": null,
      "outputs": []
    },
    {
      "cell_type": "code",
      "metadata": {
        "colab": {
          "base_uri": "https://localhost:8080/",
          "height": 1000
        },
        "id": "yfk-ZFfOVB9K",
        "outputId": "55effeef-3bcb-493e-ef7a-f10004b4c047"
      },
      "source": [
        "df[room_mask & bed_mask]"
      ],
      "execution_count": null,
      "outputs": [
        {
          "output_type": "execute_result",
          "data": {
            "text/html": [
              "<div>\n",
              "<style scoped>\n",
              "    .dataframe tbody tr th:only-of-type {\n",
              "        vertical-align: middle;\n",
              "    }\n",
              "\n",
              "    .dataframe tbody tr th {\n",
              "        vertical-align: top;\n",
              "    }\n",
              "\n",
              "    .dataframe thead th {\n",
              "        text-align: right;\n",
              "    }\n",
              "</style>\n",
              "<table border=\"1\" class=\"dataframe\">\n",
              "  <thead>\n",
              "    <tr style=\"text-align: right;\">\n",
              "      <th></th>\n",
              "      <th>longitude</th>\n",
              "      <th>latitude</th>\n",
              "      <th>housing_median_age</th>\n",
              "      <th>total_rooms</th>\n",
              "      <th>total_bedrooms</th>\n",
              "      <th>population</th>\n",
              "      <th>median_income</th>\n",
              "      <th>median_house_value</th>\n",
              "      <th>Total Rooms/Population ratio</th>\n",
              "    </tr>\n",
              "  </thead>\n",
              "  <tbody>\n",
              "    <tr>\n",
              "      <th>186</th>\n",
              "      <td>-116.33</td>\n",
              "      <td>33.75</td>\n",
              "      <td>5.0</td>\n",
              "      <td>19107.0</td>\n",
              "      <td>3923.0</td>\n",
              "      <td>2880.0</td>\n",
              "      <td>4.0360</td>\n",
              "      <td>187</td>\n",
              "      <td>6.634375</td>\n",
              "    </tr>\n",
              "    <tr>\n",
              "      <th>191</th>\n",
              "      <td>-116.36</td>\n",
              "      <td>33.88</td>\n",
              "      <td>11.0</td>\n",
              "      <td>12557.0</td>\n",
              "      <td>3098.0</td>\n",
              "      <td>2453.0</td>\n",
              "      <td>1.7844</td>\n",
              "      <td>192</td>\n",
              "      <td>5.119038</td>\n",
              "    </tr>\n",
              "    <tr>\n",
              "      <th>197</th>\n",
              "      <td>-116.38</td>\n",
              "      <td>33.74</td>\n",
              "      <td>7.0</td>\n",
              "      <td>17579.0</td>\n",
              "      <td>3479.0</td>\n",
              "      <td>3581.0</td>\n",
              "      <td>4.0840</td>\n",
              "      <td>198</td>\n",
              "      <td>4.908964</td>\n",
              "    </tr>\n",
              "    <tr>\n",
              "      <th>420</th>\n",
              "      <td>-116.95</td>\n",
              "      <td>32.79</td>\n",
              "      <td>19.0</td>\n",
              "      <td>11391.0</td>\n",
              "      <td>3093.0</td>\n",
              "      <td>7178.0</td>\n",
              "      <td>2.0326</td>\n",
              "      <td>421</td>\n",
              "      <td>1.586932</td>\n",
              "    </tr>\n",
              "    <tr>\n",
              "      <th>496</th>\n",
              "      <td>-116.99</td>\n",
              "      <td>33.73</td>\n",
              "      <td>13.0</td>\n",
              "      <td>16148.0</td>\n",
              "      <td>3474.0</td>\n",
              "      <td>6159.0</td>\n",
              "      <td>1.9961</td>\n",
              "      <td>497</td>\n",
              "      <td>2.621854</td>\n",
              "    </tr>\n",
              "    <tr>\n",
              "      <th>544</th>\n",
              "      <td>-117.01</td>\n",
              "      <td>32.83</td>\n",
              "      <td>17.0</td>\n",
              "      <td>15401.0</td>\n",
              "      <td>3280.0</td>\n",
              "      <td>7302.0</td>\n",
              "      <td>3.3067</td>\n",
              "      <td>545</td>\n",
              "      <td>2.109148</td>\n",
              "    </tr>\n",
              "    <tr>\n",
              "      <th>884</th>\n",
              "      <td>-117.08</td>\n",
              "      <td>32.97</td>\n",
              "      <td>3.0</td>\n",
              "      <td>17466.0</td>\n",
              "      <td>3336.0</td>\n",
              "      <td>7644.0</td>\n",
              "      <td>5.4584</td>\n",
              "      <td>885</td>\n",
              "      <td>2.284929</td>\n",
              "    </tr>\n",
              "    <tr>\n",
              "      <th>1116</th>\n",
              "      <td>-117.12</td>\n",
              "      <td>33.52</td>\n",
              "      <td>4.0</td>\n",
              "      <td>30401.0</td>\n",
              "      <td>4957.0</td>\n",
              "      <td>13251.0</td>\n",
              "      <td>4.5841</td>\n",
              "      <td>1117</td>\n",
              "      <td>2.294242</td>\n",
              "    </tr>\n",
              "    <tr>\n",
              "      <th>1321</th>\n",
              "      <td>-117.16</td>\n",
              "      <td>33.57</td>\n",
              "      <td>2.0</td>\n",
              "      <td>20391.0</td>\n",
              "      <td>3245.0</td>\n",
              "      <td>7132.0</td>\n",
              "      <td>3.9443</td>\n",
              "      <td>1322</td>\n",
              "      <td>2.859086</td>\n",
              "    </tr>\n",
              "    <tr>\n",
              "      <th>1444</th>\n",
              "      <td>-117.19</td>\n",
              "      <td>33.90</td>\n",
              "      <td>3.0</td>\n",
              "      <td>21060.0</td>\n",
              "      <td>3366.0</td>\n",
              "      <td>9623.0</td>\n",
              "      <td>4.1890</td>\n",
              "      <td>1445</td>\n",
              "      <td>2.188507</td>\n",
              "    </tr>\n",
              "    <tr>\n",
              "      <th>1836</th>\n",
              "      <td>-117.27</td>\n",
              "      <td>33.68</td>\n",
              "      <td>8.0</td>\n",
              "      <td>26322.0</td>\n",
              "      <td>4072.0</td>\n",
              "      <td>9360.0</td>\n",
              "      <td>5.3238</td>\n",
              "      <td>1837</td>\n",
              "      <td>2.812179</td>\n",
              "    </tr>\n",
              "    <tr>\n",
              "      <th>1838</th>\n",
              "      <td>-117.27</td>\n",
              "      <td>33.23</td>\n",
              "      <td>5.0</td>\n",
              "      <td>20908.0</td>\n",
              "      <td>3933.0</td>\n",
              "      <td>9690.0</td>\n",
              "      <td>4.1405</td>\n",
              "      <td>1839</td>\n",
              "      <td>2.157688</td>\n",
              "    </tr>\n",
              "    <tr>\n",
              "      <th>1920</th>\n",
              "      <td>-117.29</td>\n",
              "      <td>33.97</td>\n",
              "      <td>4.0</td>\n",
              "      <td>18767.0</td>\n",
              "      <td>3032.0</td>\n",
              "      <td>8805.0</td>\n",
              "      <td>4.6667</td>\n",
              "      <td>1921</td>\n",
              "      <td>2.131403</td>\n",
              "    </tr>\n",
              "    <tr>\n",
              "      <th>2001</th>\n",
              "      <td>-117.31</td>\n",
              "      <td>33.19</td>\n",
              "      <td>11.0</td>\n",
              "      <td>20944.0</td>\n",
              "      <td>3753.0</td>\n",
              "      <td>8738.0</td>\n",
              "      <td>4.3762</td>\n",
              "      <td>2002</td>\n",
              "      <td>2.396887</td>\n",
              "    </tr>\n",
              "    <tr>\n",
              "      <th>2086</th>\n",
              "      <td>-117.34</td>\n",
              "      <td>33.98</td>\n",
              "      <td>10.0</td>\n",
              "      <td>17286.0</td>\n",
              "      <td>4952.0</td>\n",
              "      <td>9851.0</td>\n",
              "      <td>1.7579</td>\n",
              "      <td>2087</td>\n",
              "      <td>1.754746</td>\n",
              "    </tr>\n",
              "    <tr>\n",
              "      <th>2274</th>\n",
              "      <td>-117.42</td>\n",
              "      <td>33.35</td>\n",
              "      <td>14.0</td>\n",
              "      <td>25135.0</td>\n",
              "      <td>4819.0</td>\n",
              "      <td>35682.0</td>\n",
              "      <td>2.5729</td>\n",
              "      <td>2275</td>\n",
              "      <td>0.704417</td>\n",
              "    </tr>\n",
              "    <tr>\n",
              "      <th>2372</th>\n",
              "      <td>-117.52</td>\n",
              "      <td>33.89</td>\n",
              "      <td>2.0</td>\n",
              "      <td>17978.0</td>\n",
              "      <td>3217.0</td>\n",
              "      <td>7305.0</td>\n",
              "      <td>5.1695</td>\n",
              "      <td>2373</td>\n",
              "      <td>2.461054</td>\n",
              "    </tr>\n",
              "    <tr>\n",
              "      <th>2434</th>\n",
              "      <td>-117.59</td>\n",
              "      <td>34.13</td>\n",
              "      <td>10.0</td>\n",
              "      <td>20263.0</td>\n",
              "      <td>3915.0</td>\n",
              "      <td>9716.0</td>\n",
              "      <td>3.8505</td>\n",
              "      <td>2435</td>\n",
              "      <td>2.085529</td>\n",
              "    </tr>\n",
              "    <tr>\n",
              "      <th>2464</th>\n",
              "      <td>-117.61</td>\n",
              "      <td>34.10</td>\n",
              "      <td>9.0</td>\n",
              "      <td>18956.0</td>\n",
              "      <td>4095.0</td>\n",
              "      <td>10323.0</td>\n",
              "      <td>3.6033</td>\n",
              "      <td>2465</td>\n",
              "      <td>1.836288</td>\n",
              "    </tr>\n",
              "    <tr>\n",
              "      <th>2871</th>\n",
              "      <td>-117.74</td>\n",
              "      <td>33.89</td>\n",
              "      <td>4.0</td>\n",
              "      <td>37937.0</td>\n",
              "      <td>5471.0</td>\n",
              "      <td>16122.0</td>\n",
              "      <td>7.4947</td>\n",
              "      <td>2872</td>\n",
              "      <td>2.353120</td>\n",
              "    </tr>\n",
              "    <tr>\n",
              "      <th>2897</th>\n",
              "      <td>-117.75</td>\n",
              "      <td>34.01</td>\n",
              "      <td>4.0</td>\n",
              "      <td>22128.0</td>\n",
              "      <td>3522.0</td>\n",
              "      <td>10450.0</td>\n",
              "      <td>6.1287</td>\n",
              "      <td>2898</td>\n",
              "      <td>2.117512</td>\n",
              "    </tr>\n",
              "    <tr>\n",
              "      <th>2969</th>\n",
              "      <td>-117.78</td>\n",
              "      <td>34.03</td>\n",
              "      <td>8.0</td>\n",
              "      <td>32054.0</td>\n",
              "      <td>5290.0</td>\n",
              "      <td>15507.0</td>\n",
              "      <td>6.0191</td>\n",
              "      <td>2970</td>\n",
              "      <td>2.067066</td>\n",
              "    </tr>\n",
              "    <tr>\n",
              "      <th>3131</th>\n",
              "      <td>-117.83</td>\n",
              "      <td>33.97</td>\n",
              "      <td>11.0</td>\n",
              "      <td>21533.0</td>\n",
              "      <td>3078.0</td>\n",
              "      <td>9671.0</td>\n",
              "      <td>7.0329</td>\n",
              "      <td>3132</td>\n",
              "      <td>2.226554</td>\n",
              "    </tr>\n",
              "    <tr>\n",
              "      <th>3296</th>\n",
              "      <td>-117.87</td>\n",
              "      <td>34.04</td>\n",
              "      <td>7.0</td>\n",
              "      <td>27700.0</td>\n",
              "      <td>4179.0</td>\n",
              "      <td>15037.0</td>\n",
              "      <td>6.6288</td>\n",
              "      <td>3297</td>\n",
              "      <td>1.842123</td>\n",
              "    </tr>\n",
              "    <tr>\n",
              "      <th>3359</th>\n",
              "      <td>-117.88</td>\n",
              "      <td>33.96</td>\n",
              "      <td>16.0</td>\n",
              "      <td>19059.0</td>\n",
              "      <td>3079.0</td>\n",
              "      <td>10988.0</td>\n",
              "      <td>5.5469</td>\n",
              "      <td>3360</td>\n",
              "      <td>1.734529</td>\n",
              "    </tr>\n",
              "    <tr>\n",
              "      <th>4771</th>\n",
              "      <td>-118.09</td>\n",
              "      <td>34.68</td>\n",
              "      <td>4.0</td>\n",
              "      <td>23386.0</td>\n",
              "      <td>4171.0</td>\n",
              "      <td>10493.0</td>\n",
              "      <td>4.0211</td>\n",
              "      <td>4772</td>\n",
              "      <td>2.228724</td>\n",
              "    </tr>\n",
              "    <tr>\n",
              "      <th>4856</th>\n",
              "      <td>-118.10</td>\n",
              "      <td>34.57</td>\n",
              "      <td>7.0</td>\n",
              "      <td>20377.0</td>\n",
              "      <td>4335.0</td>\n",
              "      <td>11973.0</td>\n",
              "      <td>3.3086</td>\n",
              "      <td>4857</td>\n",
              "      <td>1.701913</td>\n",
              "    </tr>\n",
              "    <tr>\n",
              "      <th>6572</th>\n",
              "      <td>-118.28</td>\n",
              "      <td>34.07</td>\n",
              "      <td>25.0</td>\n",
              "      <td>7522.0</td>\n",
              "      <td>3179.0</td>\n",
              "      <td>7221.0</td>\n",
              "      <td>2.0173</td>\n",
              "      <td>6573</td>\n",
              "      <td>1.041684</td>\n",
              "    </tr>\n",
              "    <tr>\n",
              "      <th>7221</th>\n",
              "      <td>-118.33</td>\n",
              "      <td>33.91</td>\n",
              "      <td>8.0</td>\n",
              "      <td>10731.0</td>\n",
              "      <td>3335.0</td>\n",
              "      <td>7211.0</td>\n",
              "      <td>2.4550</td>\n",
              "      <td>7222</td>\n",
              "      <td>1.488143</td>\n",
              "    </tr>\n",
              "    <tr>\n",
              "      <th>7323</th>\n",
              "      <td>-118.34</td>\n",
              "      <td>33.91</td>\n",
              "      <td>12.0</td>\n",
              "      <td>9975.0</td>\n",
              "      <td>3638.0</td>\n",
              "      <td>7429.0</td>\n",
              "      <td>2.6689</td>\n",
              "      <td>7324</td>\n",
              "      <td>1.342711</td>\n",
              "    </tr>\n",
              "    <tr>\n",
              "      <th>7457</th>\n",
              "      <td>-118.35</td>\n",
              "      <td>33.84</td>\n",
              "      <td>22.0</td>\n",
              "      <td>13133.0</td>\n",
              "      <td>3680.0</td>\n",
              "      <td>7180.0</td>\n",
              "      <td>3.5414</td>\n",
              "      <td>7458</td>\n",
              "      <td>1.829109</td>\n",
              "    </tr>\n",
              "    <tr>\n",
              "      <th>7567</th>\n",
              "      <td>-118.36</td>\n",
              "      <td>33.84</td>\n",
              "      <td>22.0</td>\n",
              "      <td>11016.0</td>\n",
              "      <td>3170.0</td>\n",
              "      <td>6664.0</td>\n",
              "      <td>3.7030</td>\n",
              "      <td>7568</td>\n",
              "      <td>1.653061</td>\n",
              "    </tr>\n",
              "    <tr>\n",
              "      <th>7737</th>\n",
              "      <td>-118.38</td>\n",
              "      <td>33.99</td>\n",
              "      <td>21.0</td>\n",
              "      <td>11308.0</td>\n",
              "      <td>3039.0</td>\n",
              "      <td>5127.0</td>\n",
              "      <td>4.6277</td>\n",
              "      <td>7738</td>\n",
              "      <td>2.205578</td>\n",
              "    </tr>\n",
              "    <tr>\n",
              "      <th>8092</th>\n",
              "      <td>-118.43</td>\n",
              "      <td>34.43</td>\n",
              "      <td>5.0</td>\n",
              "      <td>21113.0</td>\n",
              "      <td>4386.0</td>\n",
              "      <td>9842.0</td>\n",
              "      <td>4.2037</td>\n",
              "      <td>8093</td>\n",
              "      <td>2.145194</td>\n",
              "    </tr>\n",
              "    <tr>\n",
              "      <th>8172</th>\n",
              "      <td>-118.43</td>\n",
              "      <td>33.96</td>\n",
              "      <td>16.0</td>\n",
              "      <td>14891.0</td>\n",
              "      <td>3984.0</td>\n",
              "      <td>6270.0</td>\n",
              "      <td>5.1064</td>\n",
              "      <td>8173</td>\n",
              "      <td>2.374960</td>\n",
              "    </tr>\n",
              "    <tr>\n",
              "      <th>8319</th>\n",
              "      <td>-118.46</td>\n",
              "      <td>34.40</td>\n",
              "      <td>12.0</td>\n",
              "      <td>25957.0</td>\n",
              "      <td>4798.0</td>\n",
              "      <td>10475.0</td>\n",
              "      <td>4.5420</td>\n",
              "      <td>8320</td>\n",
              "      <td>2.477995</td>\n",
              "    </tr>\n",
              "    <tr>\n",
              "      <th>8603</th>\n",
              "      <td>-118.52</td>\n",
              "      <td>34.17</td>\n",
              "      <td>20.0</td>\n",
              "      <td>17377.0</td>\n",
              "      <td>4457.0</td>\n",
              "      <td>7450.0</td>\n",
              "      <td>3.2154</td>\n",
              "      <td>8604</td>\n",
              "      <td>2.332483</td>\n",
              "    </tr>\n",
              "    <tr>\n",
              "      <th>8655</th>\n",
              "      <td>-118.55</td>\n",
              "      <td>34.41</td>\n",
              "      <td>8.0</td>\n",
              "      <td>21086.0</td>\n",
              "      <td>3945.0</td>\n",
              "      <td>9936.0</td>\n",
              "      <td>5.8602</td>\n",
              "      <td>8656</td>\n",
              "      <td>2.122182</td>\n",
              "    </tr>\n",
              "    <tr>\n",
              "      <th>8673</th>\n",
              "      <td>-118.56</td>\n",
              "      <td>34.41</td>\n",
              "      <td>4.0</td>\n",
              "      <td>17313.0</td>\n",
              "      <td>3224.0</td>\n",
              "      <td>6902.0</td>\n",
              "      <td>5.6798</td>\n",
              "      <td>8674</td>\n",
              "      <td>2.508403</td>\n",
              "    </tr>\n",
              "    <tr>\n",
              "      <th>8754</th>\n",
              "      <td>-118.60</td>\n",
              "      <td>34.19</td>\n",
              "      <td>16.0</td>\n",
              "      <td>14912.0</td>\n",
              "      <td>4183.0</td>\n",
              "      <td>5105.0</td>\n",
              "      <td>2.8312</td>\n",
              "      <td>8755</td>\n",
              "      <td>2.921058</td>\n",
              "    </tr>\n",
              "    <tr>\n",
              "      <th>8847</th>\n",
              "      <td>-118.72</td>\n",
              "      <td>34.14</td>\n",
              "      <td>7.0</td>\n",
              "      <td>23866.0</td>\n",
              "      <td>4407.0</td>\n",
              "      <td>9873.0</td>\n",
              "      <td>5.4032</td>\n",
              "      <td>8848</td>\n",
              "      <td>2.417300</td>\n",
              "    </tr>\n",
              "    <tr>\n",
              "      <th>8881</th>\n",
              "      <td>-118.78</td>\n",
              "      <td>34.16</td>\n",
              "      <td>9.0</td>\n",
              "      <td>30405.0</td>\n",
              "      <td>4093.0</td>\n",
              "      <td>12873.0</td>\n",
              "      <td>8.0137</td>\n",
              "      <td>8882</td>\n",
              "      <td>2.361920</td>\n",
              "    </tr>\n",
              "    <tr>\n",
              "      <th>8959</th>\n",
              "      <td>-118.90</td>\n",
              "      <td>34.26</td>\n",
              "      <td>5.0</td>\n",
              "      <td>25187.0</td>\n",
              "      <td>3521.0</td>\n",
              "      <td>11956.0</td>\n",
              "      <td>6.9712</td>\n",
              "      <td>8960</td>\n",
              "      <td>2.106641</td>\n",
              "    </tr>\n",
              "    <tr>\n",
              "      <th>10692</th>\n",
              "      <td>-120.59</td>\n",
              "      <td>34.70</td>\n",
              "      <td>29.0</td>\n",
              "      <td>17738.0</td>\n",
              "      <td>3114.0</td>\n",
              "      <td>12427.0</td>\n",
              "      <td>2.7377</td>\n",
              "      <td>10693</td>\n",
              "      <td>1.427376</td>\n",
              "    </tr>\n",
              "    <tr>\n",
              "      <th>11803</th>\n",
              "      <td>-121.33</td>\n",
              "      <td>38.77</td>\n",
              "      <td>3.0</td>\n",
              "      <td>20214.0</td>\n",
              "      <td>3559.0</td>\n",
              "      <td>8361.0</td>\n",
              "      <td>4.2259</td>\n",
              "      <td>11804</td>\n",
              "      <td>2.417653</td>\n",
              "    </tr>\n",
              "    <tr>\n",
              "      <th>11864</th>\n",
              "      <td>-121.35</td>\n",
              "      <td>38.72</td>\n",
              "      <td>2.0</td>\n",
              "      <td>21897.0</td>\n",
              "      <td>3513.0</td>\n",
              "      <td>8652.0</td>\n",
              "      <td>4.5432</td>\n",
              "      <td>11865</td>\n",
              "      <td>2.530860</td>\n",
              "    </tr>\n",
              "    <tr>\n",
              "      <th>11875</th>\n",
              "      <td>-121.35</td>\n",
              "      <td>38.54</td>\n",
              "      <td>12.0</td>\n",
              "      <td>16239.0</td>\n",
              "      <td>3358.0</td>\n",
              "      <td>8656.0</td>\n",
              "      <td>3.5691</td>\n",
              "      <td>11876</td>\n",
              "      <td>1.876040</td>\n",
              "    </tr>\n",
              "    <tr>\n",
              "      <th>12018</th>\n",
              "      <td>-121.40</td>\n",
              "      <td>38.47</td>\n",
              "      <td>4.0</td>\n",
              "      <td>20982.0</td>\n",
              "      <td>3392.0</td>\n",
              "      <td>10329.0</td>\n",
              "      <td>4.3658</td>\n",
              "      <td>12019</td>\n",
              "      <td>2.031368</td>\n",
              "    </tr>\n",
              "    <tr>\n",
              "      <th>12034</th>\n",
              "      <td>-121.41</td>\n",
              "      <td>38.59</td>\n",
              "      <td>17.0</td>\n",
              "      <td>12355.0</td>\n",
              "      <td>3630.0</td>\n",
              "      <td>5692.0</td>\n",
              "      <td>2.5245</td>\n",
              "      <td>12035</td>\n",
              "      <td>2.170590</td>\n",
              "    </tr>\n",
              "    <tr>\n",
              "      <th>12304</th>\n",
              "      <td>-121.50</td>\n",
              "      <td>38.62</td>\n",
              "      <td>8.0</td>\n",
              "      <td>16679.0</td>\n",
              "      <td>3457.0</td>\n",
              "      <td>7919.0</td>\n",
              "      <td>3.7188</td>\n",
              "      <td>12305</td>\n",
              "      <td>2.106200</td>\n",
              "    </tr>\n",
              "    <tr>\n",
              "      <th>12586</th>\n",
              "      <td>-121.68</td>\n",
              "      <td>36.72</td>\n",
              "      <td>12.0</td>\n",
              "      <td>19234.0</td>\n",
              "      <td>4492.0</td>\n",
              "      <td>12153.0</td>\n",
              "      <td>3.2652</td>\n",
              "      <td>12587</td>\n",
              "      <td>1.582654</td>\n",
              "    </tr>\n",
              "    <tr>\n",
              "      <th>12675</th>\n",
              "      <td>-121.76</td>\n",
              "      <td>38.57</td>\n",
              "      <td>11.0</td>\n",
              "      <td>15018.0</td>\n",
              "      <td>3008.0</td>\n",
              "      <td>7984.0</td>\n",
              "      <td>3.1371</td>\n",
              "      <td>12676</td>\n",
              "      <td>1.881012</td>\n",
              "    </tr>\n",
              "    <tr>\n",
              "      <th>12772</th>\n",
              "      <td>-121.79</td>\n",
              "      <td>36.64</td>\n",
              "      <td>11.0</td>\n",
              "      <td>32627.0</td>\n",
              "      <td>6445.0</td>\n",
              "      <td>28566.0</td>\n",
              "      <td>2.3087</td>\n",
              "      <td>12773</td>\n",
              "      <td>1.142162</td>\n",
              "    </tr>\n",
              "    <tr>\n",
              "      <th>13090</th>\n",
              "      <td>-121.88</td>\n",
              "      <td>39.74</td>\n",
              "      <td>12.0</td>\n",
              "      <td>14631.0</td>\n",
              "      <td>3298.0</td>\n",
              "      <td>7517.0</td>\n",
              "      <td>1.6785</td>\n",
              "      <td>13091</td>\n",
              "      <td>1.946388</td>\n",
              "    </tr>\n",
              "    <tr>\n",
              "      <th>13299</th>\n",
              "      <td>-121.92</td>\n",
              "      <td>37.53</td>\n",
              "      <td>7.0</td>\n",
              "      <td>28258.0</td>\n",
              "      <td>3864.0</td>\n",
              "      <td>12203.0</td>\n",
              "      <td>8.4045</td>\n",
              "      <td>13300</td>\n",
              "      <td>2.315660</td>\n",
              "    </tr>\n",
              "    <tr>\n",
              "      <th>14554</th>\n",
              "      <td>-122.15</td>\n",
              "      <td>37.43</td>\n",
              "      <td>20.0</td>\n",
              "      <td>11709.0</td>\n",
              "      <td>3618.0</td>\n",
              "      <td>7604.0</td>\n",
              "      <td>1.9045</td>\n",
              "      <td>14555</td>\n",
              "      <td>1.539847</td>\n",
              "    </tr>\n",
              "    <tr>\n",
              "      <th>15477</th>\n",
              "      <td>-122.31</td>\n",
              "      <td>37.50</td>\n",
              "      <td>22.0</td>\n",
              "      <td>14034.0</td>\n",
              "      <td>3020.0</td>\n",
              "      <td>6266.0</td>\n",
              "      <td>4.3939</td>\n",
              "      <td>15478</td>\n",
              "      <td>2.239706</td>\n",
              "    </tr>\n",
              "  </tbody>\n",
              "</table>\n",
              "</div>"
            ],
            "text/plain": [
              "       longitude  latitude  ...  median_house_value  Total Rooms/Population ratio\n",
              "186      -116.33     33.75  ...                 187                      6.634375\n",
              "191      -116.36     33.88  ...                 192                      5.119038\n",
              "197      -116.38     33.74  ...                 198                      4.908964\n",
              "420      -116.95     32.79  ...                 421                      1.586932\n",
              "496      -116.99     33.73  ...                 497                      2.621854\n",
              "544      -117.01     32.83  ...                 545                      2.109148\n",
              "884      -117.08     32.97  ...                 885                      2.284929\n",
              "1116     -117.12     33.52  ...                1117                      2.294242\n",
              "1321     -117.16     33.57  ...                1322                      2.859086\n",
              "1444     -117.19     33.90  ...                1445                      2.188507\n",
              "1836     -117.27     33.68  ...                1837                      2.812179\n",
              "1838     -117.27     33.23  ...                1839                      2.157688\n",
              "1920     -117.29     33.97  ...                1921                      2.131403\n",
              "2001     -117.31     33.19  ...                2002                      2.396887\n",
              "2086     -117.34     33.98  ...                2087                      1.754746\n",
              "2274     -117.42     33.35  ...                2275                      0.704417\n",
              "2372     -117.52     33.89  ...                2373                      2.461054\n",
              "2434     -117.59     34.13  ...                2435                      2.085529\n",
              "2464     -117.61     34.10  ...                2465                      1.836288\n",
              "2871     -117.74     33.89  ...                2872                      2.353120\n",
              "2897     -117.75     34.01  ...                2898                      2.117512\n",
              "2969     -117.78     34.03  ...                2970                      2.067066\n",
              "3131     -117.83     33.97  ...                3132                      2.226554\n",
              "3296     -117.87     34.04  ...                3297                      1.842123\n",
              "3359     -117.88     33.96  ...                3360                      1.734529\n",
              "4771     -118.09     34.68  ...                4772                      2.228724\n",
              "4856     -118.10     34.57  ...                4857                      1.701913\n",
              "6572     -118.28     34.07  ...                6573                      1.041684\n",
              "7221     -118.33     33.91  ...                7222                      1.488143\n",
              "7323     -118.34     33.91  ...                7324                      1.342711\n",
              "7457     -118.35     33.84  ...                7458                      1.829109\n",
              "7567     -118.36     33.84  ...                7568                      1.653061\n",
              "7737     -118.38     33.99  ...                7738                      2.205578\n",
              "8092     -118.43     34.43  ...                8093                      2.145194\n",
              "8172     -118.43     33.96  ...                8173                      2.374960\n",
              "8319     -118.46     34.40  ...                8320                      2.477995\n",
              "8603     -118.52     34.17  ...                8604                      2.332483\n",
              "8655     -118.55     34.41  ...                8656                      2.122182\n",
              "8673     -118.56     34.41  ...                8674                      2.508403\n",
              "8754     -118.60     34.19  ...                8755                      2.921058\n",
              "8847     -118.72     34.14  ...                8848                      2.417300\n",
              "8881     -118.78     34.16  ...                8882                      2.361920\n",
              "8959     -118.90     34.26  ...                8960                      2.106641\n",
              "10692    -120.59     34.70  ...               10693                      1.427376\n",
              "11803    -121.33     38.77  ...               11804                      2.417653\n",
              "11864    -121.35     38.72  ...               11865                      2.530860\n",
              "11875    -121.35     38.54  ...               11876                      1.876040\n",
              "12018    -121.40     38.47  ...               12019                      2.031368\n",
              "12034    -121.41     38.59  ...               12035                      2.170590\n",
              "12304    -121.50     38.62  ...               12305                      2.106200\n",
              "12586    -121.68     36.72  ...               12587                      1.582654\n",
              "12675    -121.76     38.57  ...               12676                      1.881012\n",
              "12772    -121.79     36.64  ...               12773                      1.142162\n",
              "13090    -121.88     39.74  ...               13091                      1.946388\n",
              "13299    -121.92     37.53  ...               13300                      2.315660\n",
              "14554    -122.15     37.43  ...               14555                      1.539847\n",
              "15477    -122.31     37.50  ...               15478                      2.239706\n",
              "\n",
              "[57 rows x 9 columns]"
            ]
          },
          "metadata": {
            "tags": []
          },
          "execution_count": 57
        }
      ]
    },
    {
      "cell_type": "code",
      "metadata": {
        "id": "QtgyGn8UVKkz"
      },
      "source": [
        ""
      ],
      "execution_count": null,
      "outputs": []
    }
  ]
}